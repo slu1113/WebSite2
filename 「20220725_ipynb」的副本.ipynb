{
  "nbformat": 4,
  "nbformat_minor": 0,
  "metadata": {
    "colab": {
      "name": "「20220725.ipynb」的副本",
      "provenance": [],
      "collapsed_sections": [],
      "toc_visible": true,
      "include_colab_link": true
    },
    "kernelspec": {
      "name": "python3",
      "display_name": "Python 3"
    },
    "language_info": {
      "name": "python"
    }
  },
  "cells": [
    {
      "cell_type": "markdown",
      "metadata": {
        "id": "view-in-github",
        "colab_type": "text"
      },
      "source": [
        "<a href=\"https://colab.research.google.com/github/slu1113/WebSite2/blob/master/%E3%80%8C20220725_ipynb%E3%80%8D%E7%9A%84%E5%89%AF%E6%9C%AC.ipynb\" target=\"_parent\"><img src=\"https://colab.research.google.com/assets/colab-badge.svg\" alt=\"Open In Colab\"/></a>"
      ]
    },
    {
      "cell_type": "markdown",
      "source": [
        "# Markdown語法教學\n",
        "## 標題二\n",
        "### 標題三\n",
        "\n",
        "這是內文*CTRL+C*這是內文**CTRL+V**這是內文這是內文***CTRL+X***這是內文`ESC`這是內文這是內文這是內文這是內文\n",
        "\n",
        "這是內文這是內文[這是內文](https://www.google.com)這是內文這是內文這是內文這是內文這是內文\n",
        "\n",
        "---\n",
        "\n",
        "1. 編號1：這是內文這是內文這是內文這是內文這是內文這是內文這是內文這是內文\n",
        "2. 編號2\n",
        "3. 編號3\n",
        "\n",
        "* 項目一：這是內文這是內文這是內文這是內文這是內文這是內文這是內文這是內文\n",
        "* 項目二\n",
        "* 項目三\n",
        "\n",
        ">小技巧  \n",
        "小技巧小技巧小技巧小技巧小技巧小技巧小技巧小技巧小技巧小技巧小技巧小技巧小技巧\n",
        "\n",
        "```Python\n",
        "print(\"Hello Kitty\")\n",
        "print(\"123\")\n",
        "print(\"Hello Kitty\")\n",
        "print(\"123\")\n",
        "print(\"Hello Kitty\")\n",
        "print(\"123\")\n",
        "```\n",
        "    print(\"Hello Kitty\")\n",
        "    print(\"123\")\n",
        "    print(\"Hello Kitty\")\n",
        "\n",
        "https://www.google.com\n",
        "\n",
        "[Google官網](https://www.google.com)\n",
        "\n",
        "![Google官網](https://www.google.com/images/branding/googlelogo/1x/googlelogo_color_272x92dp.png)\n",
        "\n",
        "[![Google官網](https://www.google.com/images/branding/googlelogo/1x/googlelogo_color_272x92dp.png)](https://www.google.com \"Google官網\")"
      ],
      "metadata": {
        "id": "C-ArWTzxeaBO"
      }
    },
    {
      "cell_type": "markdown",
      "source": [
        "# 新增區段"
      ],
      "metadata": {
        "id": "zRNJ1ZkhwCbV"
      }
    },
    {
      "cell_type": "markdown",
      "source": [
        "# 一、變數與資料型態"
      ],
      "metadata": {
        "id": "vvuheQ4UGOh0"
      }
    },
    {
      "cell_type": "code",
      "source": [
        "# 變數的宣告與輸出\n",
        "x = 0\n",
        "y = 1\n",
        "a = b = c = 0\n",
        "name, age = \"David\", 18\n",
        "\n",
        "print(x, y, a, b, c, name, age)"
      ],
      "metadata": {
        "id": "bqkKzBITGSOD",
        "colab": {
          "base_uri": "https://localhost:8080/"
        },
        "outputId": "a82c1ecb-47fc-46e4-cd05-77503a4ae74f"
      },
      "execution_count": null,
      "outputs": [
        {
          "output_type": "stream",
          "name": "stdout",
          "text": [
            "0 1 0 0 0 David 18\n"
          ]
        }
      ]
    },
    {
      "cell_type": "code",
      "source": [
        "# 變數的資料型態\n",
        "# int, float, str, bool\n",
        "# type() 檢視變數的資料型態\n",
        "\n",
        "x = 1\n",
        "pi = 3.14159\n",
        "name = \"David\"\n",
        "isMarry = True\n",
        "\n",
        "# print(x, pi, name, isMarry)\n",
        "print(type(x))\n",
        "print(type(pi))\n",
        "print(type(isMarry))\n",
        "\n",
        "# 資料型別的轉換\n",
        "# int(), float(), str(), bool(), eval()"
      ],
      "metadata": {
        "colab": {
          "base_uri": "https://localhost:8080/"
        },
        "id": "oA5EUVikIVWj",
        "outputId": "d990d604-4d1f-4b48-b78d-fab5a93749f4"
      },
      "execution_count": null,
      "outputs": [
        {
          "output_type": "stream",
          "name": "stdout",
          "text": [
            "<class 'int'>\n",
            "<class 'float'>\n",
            "<class 'bool'>\n"
          ]
        }
      ]
    },
    {
      "cell_type": "markdown",
      "source": [
        "# 二、輸出與輸入"
      ],
      "metadata": {
        "id": "1dXn4exMOPQN"
      }
    },
    {
      "cell_type": "markdown",
      "source": [
        "### 輸出：print()"
      ],
      "metadata": {
        "id": "c6eFuq5zOTp-"
      }
    },
    {
      "cell_type": "code",
      "source": [
        "# print() 參數\n",
        "# sep 間隔符號, 預設值 ' '\n",
        "# end 結束符號, 預設值 '\\n'\n",
        "\n",
        "# print(1, 2, 3, 3.14, 'David', True)\n",
        "# print(1, 2, 3, 4, 5, sep=\"&\")\n",
        "# print(1, 2, 3, 4, 5, sep=\"&\", end='.')\n",
        "print(1, 2, 3, 4, 5, end='\\n')\n",
        "print(6, 7, 8, 9, 10, end='\\n')"
      ],
      "metadata": {
        "colab": {
          "base_uri": "https://localhost:8080/"
        },
        "id": "c5dqNfdaOZW8",
        "outputId": "5a8b3058-a59a-48ef-c181-b2f3fbd2af85"
      },
      "execution_count": null,
      "outputs": [
        {
          "output_type": "stream",
          "name": "stdout",
          "text": [
            "1 2 3 4 5\n",
            "6 7 8 9 10\n"
          ]
        }
      ]
    },
    {
      "cell_type": "code",
      "source": [
        "# print()參數格式化 : %\n",
        "# print(\"%s考了%d分\" % (\"李小美\", 90))\n",
        "# print(\"王小明考了80分\")\n",
        "print(\"%s考了%d分\" % (\"王小明\", 80))\n",
        "print(\"%5s考了%3d分\" % (\"王小明\", 80))\n",
        "print(\"%-5s考了%-3d分\" % (\"王小明\", 80))\n",
        "print(\"圓周率是%.2f\" % (3.14159))"
      ],
      "metadata": {
        "colab": {
          "base_uri": "https://localhost:8080/"
        },
        "id": "X6f0clQdP2_s",
        "outputId": "7a4799b2-83bc-4f86-a455-8ddfa63c69ff"
      },
      "execution_count": null,
      "outputs": [
        {
          "output_type": "stream",
          "name": "stdout",
          "text": [
            "王小明考了80分\n",
            "  王小明考了 80分\n",
            "王小明  考了80 分\n",
            "圓周率是3.14\n"
          ]
        }
      ]
    },
    {
      "cell_type": "code",
      "source": [
        "# print()參數格式化 : format()\n",
        "# print(\"考了{1}分的人是{0}\".format(\"王小明\", 80))\n",
        "# print(\"考了{1}分的人是{0},真的是{0}啊!\".format(\"王小明\", 80))\n",
        "print(\"王小明考了80分\")\n",
        "print(\"{}考了{}分\".format(\"王小明\", 80))\n",
        "print(\"{0:5}考了{1:3}分\".format(\"王小明\", 80))\n",
        "print(\"{0:>5}考了{1:<3}分\".format(\"王小明\", 80))\n",
        "print(\"{0:^5}考了{1:<3}分\".format(\"王小明\", 80))\n",
        "print(\"圓周率是{:.2f}\".format(3.14159))"
      ],
      "metadata": {
        "colab": {
          "base_uri": "https://localhost:8080/"
        },
        "id": "tGJWMWfASbqi",
        "outputId": "393ccca1-aa0a-4f4b-e15f-abf593cb646b"
      },
      "execution_count": null,
      "outputs": [
        {
          "output_type": "stream",
          "name": "stdout",
          "text": [
            "王小明考了80分\n",
            "王小明考了80分\n",
            "王小明  考了 80分\n",
            "  王小明考了80 分\n",
            " 王小明 考了80 分\n",
            "圓周率是3.14\n"
          ]
        }
      ]
    },
    {
      "cell_type": "code",
      "source": [
        "# f-strings\n",
        "name = '王小明'\n",
        "score = 80\n",
        "# print(name + \"考了\" + str(score) + \"分\")\n",
        "print(f\"{name:5}考了{score:3}分\")\n",
        "print(f\"{name:^5}考了{score:<3}分\")\n",
        "# x = 2\n",
        "# y = 5\n",
        "# print(f\"{x} * {y} = {x * y}\")"
      ],
      "metadata": {
        "colab": {
          "base_uri": "https://localhost:8080/"
        },
        "id": "lQ4M7uWfVP0v",
        "outputId": "cf3aab9e-adc4-4124-8b91-f8949f838ffb"
      },
      "execution_count": null,
      "outputs": [
        {
          "output_type": "stream",
          "name": "stdout",
          "text": [
            "王小明  考了 80分\n",
            " 王小明 考了80 分\n"
          ]
        }
      ]
    },
    {
      "cell_type": "code",
      "source": [
        "print(f\"{name:x^5}考了{score:03}分\")"
      ],
      "metadata": {
        "colab": {
          "base_uri": "https://localhost:8080/"
        },
        "id": "NfApSkBAcn7_",
        "outputId": "8b09e3a1-a7b5-48b9-e8c9-2dd7174be05e"
      },
      "execution_count": null,
      "outputs": [
        {
          "output_type": "stream",
          "name": "stdout",
          "text": [
            "x王小明x考了080分\n"
          ]
        }
      ]
    },
    {
      "cell_type": "markdown",
      "source": [
        "## 輸入：input()"
      ],
      "metadata": {
        "id": "6DAkf2KRGv7G"
      }
    },
    {
      "cell_type": "code",
      "source": [
        "score1 = input(\"請輸入你的國文成績：\")\n",
        "# print(f\"你的國文成績是{score1}\")\n",
        "print(\"你的國文成績是：{}\".format(score1))"
      ],
      "metadata": {
        "colab": {
          "base_uri": "https://localhost:8080/"
        },
        "id": "DRdXQS4dGyqg",
        "outputId": "e7d10852-2d4a-47c2-cc29-a90d8446b0d9"
      },
      "execution_count": null,
      "outputs": [
        {
          "output_type": "stream",
          "name": "stdout",
          "text": [
            "請輸入你的國文成績：90\n",
            "你的國文成績是：90\n"
          ]
        }
      ]
    },
    {
      "cell_type": "code",
      "source": [
        "score1 = input(\"請輸入你的國文成績：\")\n",
        "score2 = input(\"請輸入你的英文成績：\")\n",
        "print(\"你的總分是：{}\".format(score1 + score2))"
      ],
      "metadata": {
        "colab": {
          "base_uri": "https://localhost:8080/"
        },
        "id": "RiV5RnNQIUQ9",
        "outputId": "b3bf4c84-b528-491b-d8f8-be16173900bc"
      },
      "execution_count": null,
      "outputs": [
        {
          "output_type": "stream",
          "name": "stdout",
          "text": [
            "請輸入你的國文成績：80\n",
            "請輸入你的英文成績：90\n",
            "你的總分是：8090\n"
          ]
        }
      ]
    },
    {
      "cell_type": "code",
      "source": [
        "score1 = int(input(\"請輸入你的國文成績：\"))\n",
        "score2 = int(input(\"請輸入你的英文成績：\"))\n",
        "print(\"你的總分是：{}\".format(score1 + score2))"
      ],
      "metadata": {
        "colab": {
          "base_uri": "https://localhost:8080/"
        },
        "id": "OBidtVuyKb91",
        "outputId": "3b7420b5-89ec-4631-9990-6375a7aa25f5"
      },
      "execution_count": null,
      "outputs": [
        {
          "output_type": "stream",
          "name": "stdout",
          "text": [
            "請輸入你的國文成績：80\n",
            "請輸入你的英文成績：90\n",
            "你的總分是：170\n"
          ]
        }
      ]
    },
    {
      "cell_type": "markdown",
      "source": [
        "## 註解"
      ],
      "metadata": {
        "id": "R3XkG6QPLGPl"
      }
    },
    {
      "cell_type": "code",
      "source": [
        "# 註解符號快速鍵 Ctrl + /\n",
        "\n",
        "# 單行註解\n",
        "\n",
        "# 多行註解\n",
        "# 多行註解\n",
        "# 多行註解\n",
        "\n",
        "example = \"\"\"\n",
        "多行註解\n",
        "多行註解多行註解多行註解多行註解多行註解\n",
        "多行註解多行註解多行註解多行註解多行註解多行註解\n",
        "\"\"\""
      ],
      "metadata": {
        "id": "uNOHdZWnLLr8"
      },
      "execution_count": null,
      "outputs": []
    },
    {
      "cell_type": "code",
      "source": [
        "example"
      ],
      "metadata": {
        "colab": {
          "base_uri": "https://localhost:8080/",
          "height": 35
        },
        "id": "rz2QsxqYMGZ8",
        "outputId": "19241ae6-e1a9-4e8e-b57d-8aba638f9bb6"
      },
      "execution_count": null,
      "outputs": [
        {
          "output_type": "execute_result",
          "data": {
            "text/plain": [
              "'\\n多行註解\\n多行註解多行註解多行註解多行註解多行註解\\n多行註解多行註解多行註解多行註解多行註解多行註解\\n'"
            ],
            "application/vnd.google.colaboratory.intrinsic+json": {
              "type": "string"
            }
          },
          "metadata": {},
          "execution_count": 11
        }
      ]
    },
    {
      "cell_type": "markdown",
      "source": [
        "# 三、運算子"
      ],
      "metadata": {
        "id": "2uCfpaufMiLo"
      }
    },
    {
      "cell_type": "markdown",
      "source": [
        "## 算術運算子 \n",
        "\n",
        "* + - * / %(求餘) //(求商) **(指數)\n",
        "* / 稱為slash，台灣稱為斜線，中國(大陸)常稱為斜槓。\n",
        "* \\ 稱為backslash，台灣稱為反斜線，中國(大陸)常稱為反斜槓。"
      ],
      "metadata": {
        "id": "BIEowAEbTq2y"
      }
    },
    {
      "cell_type": "code",
      "source": [
        "x = 5 \n",
        "y = 2\n",
        "\n",
        "print(x + y, x - y, x * y, x / y)\n",
        "print(x % y, x // y, x ** y)"
      ],
      "metadata": {
        "colab": {
          "base_uri": "https://localhost:8080/"
        },
        "id": "w1sMRdrdMl1V",
        "outputId": "1767726d-0301-46bb-c0ab-c29c9172e92e"
      },
      "execution_count": null,
      "outputs": [
        {
          "output_type": "stream",
          "name": "stdout",
          "text": [
            "7 3 10 2.5\n",
            "1 2 25\n"
          ]
        }
      ]
    },
    {
      "cell_type": "markdown",
      "source": [
        "## 比較運算子 \n",
        "==, !=, >, >=, <, <="
      ],
      "metadata": {
        "id": "Em4jCYb3T5jg"
      }
    },
    {
      "cell_type": "code",
      "source": [
        "x = 5\n",
        "y = 2\n",
        "\n",
        "x == y"
      ],
      "metadata": {
        "colab": {
          "base_uri": "https://localhost:8080/"
        },
        "id": "RdMaqE0JSJkp",
        "outputId": "d8e9ee05-e3ac-4333-a7e5-9812a965c8f0"
      },
      "execution_count": null,
      "outputs": [
        {
          "output_type": "execute_result",
          "data": {
            "text/plain": [
              "False"
            ]
          },
          "metadata": {},
          "execution_count": 16
        }
      ]
    },
    {
      "cell_type": "markdown",
      "source": [
        "## 邏輯運算子\n",
        "and, or, not"
      ],
      "metadata": {
        "id": "v26CiTMqT_QD"
      }
    },
    {
      "cell_type": "code",
      "source": [
        "x = 5\n",
        "y = 2\n",
        "\n",
        "# (x == y) and (x > y)\n",
        "# (x == y) or (x > y)\n",
        "# not (x == y)"
      ],
      "metadata": {
        "colab": {
          "base_uri": "https://localhost:8080/"
        },
        "id": "qIzDOBY8SeL2",
        "outputId": "330e203f-c7d9-4c24-f63a-c39a119f26e6"
      },
      "execution_count": null,
      "outputs": [
        {
          "output_type": "execute_result",
          "data": {
            "text/plain": [
              "True"
            ]
          },
          "metadata": {},
          "execution_count": 22
        }
      ]
    },
    {
      "cell_type": "markdown",
      "source": [
        "## 複和指定運算子 \n",
        "+=, -="
      ],
      "metadata": {
        "id": "tJ2CE3ViUGTb"
      }
    },
    {
      "cell_type": "code",
      "source": [
        "x = 1\n",
        "x = x + 1\n",
        "print(x)\n",
        "\n",
        "x = x - 1\n",
        "print(x)"
      ],
      "metadata": {
        "colab": {
          "base_uri": "https://localhost:8080/"
        },
        "id": "0GFeCPFnTIGy",
        "outputId": "4b2a3107-ea48-424c-f5f8-14dc5d0007fd"
      },
      "execution_count": null,
      "outputs": [
        {
          "output_type": "stream",
          "name": "stdout",
          "text": [
            "2\n",
            "1\n"
          ]
        }
      ]
    },
    {
      "cell_type": "markdown",
      "source": [
        "## 範例：溫度轉換器\n",
        "\n",
        "華氏 = 攝氏*(9/5)+32"
      ],
      "metadata": {
        "id": "kKjHI5VNUjqN"
      }
    },
    {
      "cell_type": "code",
      "source": [
        "TC = float(input(\"請輸入攝氏溫度：\"))\n",
        "TF = TC * (9 / 5) + 32\n",
        "# print(\"攝氏{1}度等於華氏{0}度\".format(TF, TC))\n",
        "print(f\"攝氏{TC}度等於華氏{TF}度\")"
      ],
      "metadata": {
        "colab": {
          "base_uri": "https://localhost:8080/"
        },
        "id": "lrqptg2oUrEF",
        "outputId": "70871c55-ca93-4bda-dd5e-ebff9982463e"
      },
      "execution_count": null,
      "outputs": [
        {
          "output_type": "stream",
          "name": "stdout",
          "text": [
            "請輸入攝氏溫度：40\n",
            "攝氏40.0度等於華氏104.0度\n"
          ]
        }
      ]
    },
    {
      "cell_type": "markdown",
      "source": [
        "## 範例：BMI計算機\n",
        "\n",
        "$BMI = 體重(kg) / 身高(m) ^ 2$"
      ],
      "metadata": {
        "id": "rXQb_YJPXEcP"
      }
    },
    {
      "cell_type": "code",
      "source": [
        "h = int(input(\"請輸入你身高(cm)：\"))\n",
        "w = int(input(\"請輸入你的體重(kg)：\"))\n",
        "bmi = w / (h / 100) ** 2\n",
        "print(\"身高{}公分, 體重{}公斤, BMI值為{:.2f}\".format(h, w, bmi))"
      ],
      "metadata": {
        "colab": {
          "base_uri": "https://localhost:8080/"
        },
        "id": "rVWyiRecXUWs",
        "outputId": "dfee2ccd-a146-40ce-bf17-444fe22add2b"
      },
      "execution_count": null,
      "outputs": [
        {
          "output_type": "stream",
          "name": "stdout",
          "text": [
            "請輸入你身高(cm)：180\n",
            "請輸入你的體重(kg)：80\n",
            "身高180公分, 體重80公斤, BMI值為24.69\n"
          ]
        }
      ]
    },
    {
      "cell_type": "markdown",
      "source": [
        "# 四、判斷式"
      ],
      "metadata": {
        "id": "n22bLPHxftML"
      }
    },
    {
      "cell_type": "code",
      "source": [
        "# 雙向判斷式\n",
        "score = int(input(\"請輸入你的成績：\"))\n",
        "if score >= 60:\n",
        "    print(\"Pass\")\n",
        "else:\n",
        "    print(\"Down\")    "
      ],
      "metadata": {
        "colab": {
          "base_uri": "https://localhost:8080/"
        },
        "id": "xxaj6JHPfy6C",
        "outputId": "ba7779f2-13c2-46a5-9ebb-1ee8840e5b19"
      },
      "execution_count": null,
      "outputs": [
        {
          "output_type": "stream",
          "name": "stdout",
          "text": [
            "請輸入你的成績：55\n",
            "Down\n"
          ]
        }
      ]
    },
    {
      "cell_type": "code",
      "source": [
        "# 多向判斷式：\n",
        "score = int(input(\"請輸入你的成績：\"))\n",
        "if score >= 90:\n",
        "    print(\"A\")\n",
        "elif score >= 80:\n",
        "    print(\"B\")\n",
        "elif score >= 70:\n",
        "    print(\"C\")\n",
        "elif score >= 60:\n",
        "    print(\"D\")\n",
        "else:\n",
        "    print(\"Down\")        "
      ],
      "metadata": {
        "colab": {
          "base_uri": "https://localhost:8080/"
        },
        "id": "r4X_42CFgeFG",
        "outputId": "7a68a012-6709-4b5e-b868-56baec182957"
      },
      "execution_count": null,
      "outputs": [
        {
          "output_type": "stream",
          "name": "stdout",
          "text": [
            "請輸入你的成績：59\n",
            "Down\n"
          ]
        }
      ]
    },
    {
      "cell_type": "code",
      "source": [
        "# 判斷輸入值是否為整數\n",
        "# 1. 輸入值變整數。與原輸入值相減等於0則為整數。\n",
        "# 2. abs(x)==x\n",
        "\n",
        "# num = eval(input())\n",
        "# num2 = int(num)\n",
        "# if (num-num2) != 0: \n",
        "#     print(\"NO\")\n",
        "# else: \n",
        "#     print(\"YES\")\n",
        "\n",
        "n = input(\"請輸入一個整數：\")\n",
        "n.isdigit()"
      ],
      "metadata": {
        "colab": {
          "base_uri": "https://localhost:8080/"
        },
        "id": "Jor1iKKKlD5w",
        "outputId": "7ffb73bb-4262-4104-baa4-7a1a6f68304d"
      },
      "execution_count": null,
      "outputs": [
        {
          "name": "stdout",
          "output_type": "stream",
          "text": [
            "請輸入一個整數：12\n"
          ]
        },
        {
          "output_type": "execute_result",
          "data": {
            "text/plain": [
              "True"
            ]
          },
          "metadata": {},
          "execution_count": 51
        }
      ]
    },
    {
      "cell_type": "code",
      "source": [
        "# 判斷奇偶數\n",
        "n = int(input(\"請輸入一個正整數：\"))\n",
        "if n % 2 == 0:\n",
        "    print(f\"數字{n}為偶數\")\n",
        "else:\n",
        "    print(f\"數字{n}為奇數\")"
      ],
      "metadata": {
        "colab": {
          "base_uri": "https://localhost:8080/"
        },
        "id": "E0oIRQuZh93m",
        "outputId": "e83d17bc-9e4f-44f5-ac7f-eb590449db5e"
      },
      "execution_count": null,
      "outputs": [
        {
          "output_type": "stream",
          "name": "stdout",
          "text": [
            "請輸入一個正整數：2\n",
            "數字2為偶數\n"
          ]
        }
      ]
    },
    {
      "cell_type": "code",
      "source": [
        "# 判斷閏年-巢狀判斷式\n",
        "year = int(input(\"請輸入一個西元年：\"))\n",
        "if year % 100 == 0 :\n",
        "    if year % 400 == 0:\n",
        "        print(f\"西元{year}年是閏年\")\n",
        "    else:\n",
        "        print(f\"西元{year}年不是閏年\")\n",
        "else:\n",
        "    if year % 4 == 0:\n",
        "        print(f\"西元{year}年是閏年\")\n",
        "    else:\n",
        "        print(f\"西元{year}年不是閏年\")"
      ],
      "metadata": {
        "colab": {
          "base_uri": "https://localhost:8080/"
        },
        "id": "W_AyjF1AmDut",
        "outputId": "9b9e5112-68be-4495-a292-bc53002c5ecf"
      },
      "execution_count": null,
      "outputs": [
        {
          "output_type": "stream",
          "name": "stdout",
          "text": [
            "請輸入一個西元年：1900\n",
            "西元1900年不是閏年\n"
          ]
        }
      ]
    },
    {
      "cell_type": "code",
      "source": [
        "# 判斷閏年-多向判斷式\n",
        "year = int(input(\"請輸入一個西元年：\"))\n",
        "if year % 100 == 0 and year % 400 == 0:\n",
        "    print(f\"西元{year}年是閏年\")\n",
        "elif year % 100 != 0 and year % 4 == 0:\n",
        "    print(f\"西元{year}年是閏年\")\n",
        "else:\n",
        "    print(f\"西元{year}年不是閏年\")  "
      ],
      "metadata": {
        "colab": {
          "base_uri": "https://localhost:8080/"
        },
        "id": "KLK9GTwLoVLp",
        "outputId": "6308b91a-0e2e-4ea0-8be7-a22003b3e6ef"
      },
      "execution_count": null,
      "outputs": [
        {
          "output_type": "stream",
          "name": "stdout",
          "text": [
            "請輸入一個西元年：1900\n",
            "西元1900年不是閏年\n"
          ]
        }
      ]
    },
    {
      "cell_type": "markdown",
      "source": [
        "# 五、自訂函式"
      ],
      "metadata": {
        "id": "QBK31HYuoGps"
      }
    },
    {
      "cell_type": "code",
      "source": [
        "# 自訂函式基本格式\n",
        "def sayHello():\n",
        "    print(\"Hello\")\n",
        "\n",
        "sayHello()\n",
        "sayHello()"
      ],
      "metadata": {
        "colab": {
          "base_uri": "https://localhost:8080/"
        },
        "id": "TWqipDOt7_NS",
        "outputId": "628ff3c0-2703-4cbf-ca3c-3f45b85b43b1"
      },
      "execution_count": null,
      "outputs": [
        {
          "output_type": "stream",
          "name": "stdout",
          "text": [
            "Hello\n",
            "Hello\n"
          ]
        }
      ]
    },
    {
      "cell_type": "code",
      "source": [
        "# 自訂函式：參數的使用\n",
        "def sayHello(name):\n",
        "    print(\"Hello, {}.\".format(name))\n",
        "\n",
        "sayHello(\"David\")\n",
        "sayHello(\"Lily\")"
      ],
      "metadata": {
        "colab": {
          "base_uri": "https://localhost:8080/"
        },
        "id": "A5p4dQZB9qW_",
        "outputId": "bf78fbe8-9620-4d5c-c5a7-78561b8da455"
      },
      "execution_count": null,
      "outputs": [
        {
          "output_type": "stream",
          "name": "stdout",
          "text": [
            "Hello, David.\n",
            "Hello, Lily.\n"
          ]
        }
      ]
    },
    {
      "cell_type": "code",
      "source": [
        "# 自訂函式：回傳值\n",
        "def sayHello(name):\n",
        "    msg = \"Hello, {}.\".format(name)\n",
        "    return msg\n",
        "\n",
        "msg = sayHello(\"Lily\")"
      ],
      "metadata": {
        "id": "vny278Ma_bat"
      },
      "execution_count": null,
      "outputs": []
    },
    {
      "cell_type": "code",
      "source": [
        "print(msg)"
      ],
      "metadata": {
        "colab": {
          "base_uri": "https://localhost:8080/"
        },
        "id": "maNPT1P0AOer",
        "outputId": "3e9ae180-67c5-4c71-c72f-f42b347ea02f"
      },
      "execution_count": null,
      "outputs": [
        {
          "output_type": "stream",
          "name": "stdout",
          "text": [
            "Hello, Lily.\n"
          ]
        }
      ]
    },
    {
      "cell_type": "code",
      "source": [
        "# 計算面積自訂函式\n",
        "# getArea(), 參數 w, h, 回傳值 area\n",
        "# 我有二塊地，一塊是寬5,高4，一塊是寬10，高5, 請計算總面積\n",
        "\n",
        "def getArea(w, h):\n",
        "    area = w * h\n",
        "    return area\n",
        "\n",
        "area1 = getArea(5, 4)\n",
        "area2 = getArea(10, 5)\n",
        "print(\"我家的地總面積是 {}\".format(area1 + area2))"
      ],
      "metadata": {
        "colab": {
          "base_uri": "https://localhost:8080/"
        },
        "id": "oHLQVu-1AqT7",
        "outputId": "9845d777-114e-43d2-e4a3-aa203aebd092"
      },
      "execution_count": null,
      "outputs": [
        {
          "output_type": "stream",
          "name": "stdout",
          "text": [
            "我家的地總面積是 70\n"
          ]
        }
      ]
    },
    {
      "cell_type": "code",
      "source": [
        "# 自訂函式 tctotf(), 參數 tc\n",
        "# TF = TC * (9 / 5) + 32\n",
        "\n",
        "def tctotf(TC):\n",
        "    TF = TC * (9 / 5) + 32\n",
        "    return TF\n",
        "\n",
        "TC = float(input(\"請輸入攝氏溫度：\"))\n",
        "print(\"攝氏{}度等於華氏{}度\".format(TC, tctotf(TC)))"
      ],
      "metadata": {
        "colab": {
          "base_uri": "https://localhost:8080/"
        },
        "id": "JT9bjAugDFK7",
        "outputId": "09cb30f8-150e-4bcd-eebd-94b7f2dd17bd"
      },
      "execution_count": null,
      "outputs": [
        {
          "output_type": "stream",
          "name": "stdout",
          "text": [
            "請輸入攝氏溫度：32\n",
            "攝氏32.0度等於華氏89.6度\n"
          ]
        }
      ]
    },
    {
      "cell_type": "code",
      "source": [
        "# 自訂函式：getBMI()，參數 h, w\n",
        "# bmi值 <= 18.5，加訊息 你太瘦了，多吃一點。\n",
        "# bmi值 > 24，加訊息 你太胖了，少吃一點。\n",
        "# bmi值在這之間，加訊息 恭禧你，身材標準。\n",
        "\n",
        "def getBMI(h, w):\n",
        "    bmi = w / (h / 100) ** 2\n",
        "    return bmi\n",
        "\n",
        "h = int(input(\"請輸入你的身高(cm)：\"))\n",
        "w = int(input(\"請輸入你的體重(kg)：\"))\n",
        "bmi = getBMI(h, w)\n",
        "print(\"身高{}公分，體重{}公斤，BMI值為{:.2f}\".format(h, w , bmi))\n",
        "if bmi <= 18.5:\n",
        "    print(\"你太瘦了，多吃一點。\")\n",
        "elif bmi > 24:\n",
        "    print(\"你太胖了，少吃一點。\")\n",
        "else:\n",
        "    print(\"恭禧你，身材標準。\")"
      ],
      "metadata": {
        "colab": {
          "base_uri": "https://localhost:8080/"
        },
        "id": "48mDGOGsEx-y",
        "outputId": "01c6b7b6-e78c-4e6e-c17b-7c0e349715e4"
      },
      "execution_count": null,
      "outputs": [
        {
          "output_type": "stream",
          "name": "stdout",
          "text": [
            "請輸入你的身高(cm)：180\n",
            "請輸入你的體重(kg)：80\n",
            "身高180公分，體重80公斤，BMI值為24.69\n",
            "你太胖了，少吃一點。\n"
          ]
        }
      ]
    },
    {
      "cell_type": "markdown",
      "source": [
        "# 六、串列與整數串列"
      ],
      "metadata": {
        "id": "w1qp7KM3J8aI"
      }
    },
    {
      "cell_type": "markdown",
      "source": [
        "## 串列"
      ],
      "metadata": {
        "id": "yJjs-RkGXQC_"
      }
    },
    {
      "cell_type": "code",
      "source": [
        "# 宣告串列的方式\n",
        "list1 = [1, 2, 3, 4, 5, 6, 7, 8, 9]\n",
        "list2 = [\"Apple\", \"Banana\", \"Cherry\"]\n",
        "list3 = [\"David\", 180, 80, 24.61, True]\n",
        "\n",
        "# 查詢資料型別\n",
        "# type(list1)\n",
        "# type(list2)\n",
        "# type(list3)"
      ],
      "metadata": {
        "colab": {
          "base_uri": "https://localhost:8080/"
        },
        "id": "NsAQGb4CLcj4",
        "outputId": "4937cc46-d670-4275-a808-a8a4be434ccd"
      },
      "execution_count": null,
      "outputs": [
        {
          "output_type": "execute_result",
          "data": {
            "text/plain": [
              "list"
            ]
          },
          "metadata": {},
          "execution_count": 83
        }
      ]
    },
    {
      "cell_type": "code",
      "source": [
        "# 串列取值-使用索引值\n",
        "list1 = [1, 2, 3, 4, 5, 6, 7, 8, 9]\n",
        "\n",
        "# 取出單一的元素值 格式：串列[索引值]\n",
        "list1[2]\n",
        "list1[5]\n",
        "\n",
        "# 取出範圍元素值\n",
        "# 格式：串列[起始索引：終止索引]\n",
        "list1[2:5]  # 3, 4, 5\n",
        "list1[5:8]  # 6, 7, 8\n",
        "\n",
        "# 取出範圍元素值,有間隔\n",
        "# 格式：串列[起始索引:終止索引:間隔值]\n",
        "list1[0:9:2]\n",
        "list1[1:9:2]\n",
        "\n",
        "# 取出特定範圍值\n",
        "# 取出所有的值\n",
        "list1[0:9]\n",
        "list1[:]\n",
        "# 取出前幾名的值\n",
        "list1[0:3]\n",
        "list1[:3]\n",
        "# 取出後幾名的值\n",
        "list1[4:9]\n",
        "list1[4:]\n",
        "\n",
        "# 取出最後一個值\n",
        "len(list1) #計算串列的元素值的數量\n",
        "list1[len(list1)-1]\n",
        "list1[-1]\n",
        "list1[-4]\n",
        "list1[-3:]\n",
        "list1[-5:]\n",
        "\n",
        "# 將串列倒序取出\n",
        "list1[::-1]\n",
        "list1[::-2]"
      ],
      "metadata": {
        "colab": {
          "base_uri": "https://localhost:8080/"
        },
        "id": "ysS2wTL8NCLL",
        "outputId": "0844137c-cb3a-4325-d0f0-7b23cf5e66d6"
      },
      "execution_count": null,
      "outputs": [
        {
          "output_type": "execute_result",
          "data": {
            "text/plain": [
              "[9, 7, 5, 3, 1]"
            ]
          },
          "metadata": {},
          "execution_count": 110
        }
      ]
    },
    {
      "cell_type": "code",
      "source": [
        "str1 = 'abcdefg'\n",
        "addr1 = '台北市大同區忠孝東路一段100號'\n",
        "food = 'milk'\n",
        "\n",
        "str1[2]\n",
        "str1[2:5]\n",
        "addr1[0:3]\n",
        "addr1[:3]\n",
        "addr1[:6]\n",
        "food[::-1]"
      ],
      "metadata": {
        "colab": {
          "base_uri": "https://localhost:8080/",
          "height": 35
        },
        "id": "o7OK_fhKVFSL",
        "outputId": "271a1558-1c19-4406-88d5-2d773aef2956"
      },
      "execution_count": null,
      "outputs": [
        {
          "output_type": "execute_result",
          "data": {
            "text/plain": [
              "'klim'"
            ],
            "application/vnd.google.colaboratory.intrinsic+json": {
              "type": "string"
            }
          },
          "metadata": {},
          "execution_count": 116
        }
      ]
    },
    {
      "cell_type": "markdown",
      "source": [
        "## 整數串列 range()"
      ],
      "metadata": {
        "id": "vaGzpkWtXS0O"
      }
    },
    {
      "cell_type": "code",
      "source": [
        "# 整數串列宣告\n",
        "# range([起始索引, ]終止索引[, 間隔值])\n",
        "\n",
        "list(range(5))\n",
        "list(range(1, 10))\n",
        "list(range(1, 10, 2))\n",
        "list(range(2, 10, 2))\n",
        "list(range(9, 0, -1))\n",
        "list(range(9, -1, -1))"
      ],
      "metadata": {
        "colab": {
          "base_uri": "https://localhost:8080/"
        },
        "id": "eJoYC35MXXbI",
        "outputId": "a2150492-a331-4030-918f-73d4a1f8fda6"
      },
      "execution_count": null,
      "outputs": [
        {
          "output_type": "execute_result",
          "data": {
            "text/plain": [
              "[9, 8, 7, 6, 5, 4, 3, 2, 1, 0]"
            ]
          },
          "metadata": {},
          "execution_count": 127
        }
      ]
    },
    {
      "cell_type": "markdown",
      "source": [
        "# 七、迴圈"
      ],
      "metadata": {
        "id": "gVI_gQURZtfo"
      }
    },
    {
      "cell_type": "markdown",
      "source": [
        "## for 迴圈"
      ],
      "metadata": {
        "id": "f4EO90mxZ4zd"
      }
    },
    {
      "cell_type": "markdown",
      "source": [
        "### for list"
      ],
      "metadata": {
        "id": "IQWWoSFJaGgQ"
      }
    },
    {
      "cell_type": "code",
      "source": [
        "fruits = ['Apple', 'Banana', 'Cherry']\n",
        "for fruit in fruits:\n",
        "    # print(fruit)\n",
        "    print(fruit, end=',')"
      ],
      "metadata": {
        "colab": {
          "base_uri": "https://localhost:8080/"
        },
        "id": "uCnXxwFbaMNh",
        "outputId": "78ff3d1a-8dda-4331-b35d-37f21fb77ced"
      },
      "execution_count": null,
      "outputs": [
        {
          "output_type": "stream",
          "name": "stdout",
          "text": [
            "Apple,Banana,Cherry,"
          ]
        }
      ]
    },
    {
      "cell_type": "code",
      "source": [
        "# 用 for list 迴圈計算 1 加到 10\n",
        "list1 = [1,2,3,4,5,6,7,8,9,10]\n",
        "total = 0\n",
        "for i in list1:\n",
        "    total = total + i\n",
        "print(total)    "
      ],
      "metadata": {
        "colab": {
          "base_uri": "https://localhost:8080/"
        },
        "id": "ijhOar4qbIvu",
        "outputId": "532da759-f5f7-4a4a-aba4-6ae0958cd76e"
      },
      "execution_count": null,
      "outputs": [
        {
          "output_type": "stream",
          "name": "stdout",
          "text": [
            "55\n"
          ]
        }
      ]
    },
    {
      "cell_type": "code",
      "source": [
        "# 用 for list 迴圈計算 1 到 10 的偶數相加\n",
        "list1=[1,2,3,4,5,6,7,8,9,10]\n",
        "total = 0\n",
        "for i in list1[1::2]:\n",
        "    total = total + i\n",
        "print(total)"
      ],
      "metadata": {
        "colab": {
          "base_uri": "https://localhost:8080/"
        },
        "id": "kOpyX3G3cPg4",
        "outputId": "833d0aa8-7d14-446d-f2e2-9041af361183"
      },
      "execution_count": null,
      "outputs": [
        {
          "output_type": "stream",
          "name": "stdout",
          "text": [
            "30\n"
          ]
        }
      ]
    },
    {
      "cell_type": "code",
      "source": [
        "# 用 for list 迴圈計算 1 到 10 之間 3 的倍數, 而且是奇數值的加總\n",
        "list1=[1,2,3,4,5,6,7,8,9,10]\n",
        "total = 0\n",
        "for i in list1:\n",
        "    if i % 3 == 0:\n",
        "        if i % 2 != 0:\n",
        "            total = total + i\n",
        "print(total)            "
      ],
      "metadata": {
        "colab": {
          "base_uri": "https://localhost:8080/"
        },
        "id": "mYxxfVAZdDKv",
        "outputId": "dd90e1ef-af6d-4192-ace6-72a0c260f480"
      },
      "execution_count": null,
      "outputs": [
        {
          "output_type": "stream",
          "name": "stdout",
          "text": [
            "12\n"
          ]
        }
      ]
    },
    {
      "cell_type": "code",
      "source": [
        "list1=[1,2,3,4,5,6,7,8,9,10]\n",
        "total = 0\n",
        "for i in list1:\n",
        "    if i % 3 == 0 and i % 2 != 0:\n",
        "        total = total + i\n",
        "print(total) "
      ],
      "metadata": {
        "colab": {
          "base_uri": "https://localhost:8080/"
        },
        "id": "zKG16zI4eK52",
        "outputId": "6c774dc9-d8f0-45e1-ceb4-ffaf6fccfd8e"
      },
      "execution_count": null,
      "outputs": [
        {
          "output_type": "stream",
          "name": "stdout",
          "text": [
            "12\n"
          ]
        }
      ]
    },
    {
      "cell_type": "markdown",
      "source": [
        "### for range"
      ],
      "metadata": {
        "id": "qaXJ1keXeg69"
      }
    },
    {
      "cell_type": "code",
      "source": [
        "# 用 for range 迴圈計算 1 加到 10\n",
        "total = 0\n",
        "for i in range(1, 11):\n",
        "    total = total + i\n",
        "print(total) "
      ],
      "metadata": {
        "colab": {
          "base_uri": "https://localhost:8080/"
        },
        "id": "JgLsfAGvekSb",
        "outputId": "bc164158-9c10-477d-c951-769163e8c345"
      },
      "execution_count": null,
      "outputs": [
        {
          "output_type": "stream",
          "name": "stdout",
          "text": [
            "55\n"
          ]
        }
      ]
    },
    {
      "cell_type": "code",
      "source": [
        "# 用 for range 迴圈計算 1 到 10 之間的偶數和\n",
        "total = 0\n",
        "for i in range(2, 11, 2):\n",
        "    total = total + i\n",
        "print(total)"
      ],
      "metadata": {
        "colab": {
          "base_uri": "https://localhost:8080/"
        },
        "id": "bzTa9LMYfUiq",
        "outputId": "73de0a08-8040-4cac-f5e4-3a90af66a4b3"
      },
      "execution_count": null,
      "outputs": [
        {
          "output_type": "stream",
          "name": "stdout",
          "text": [
            "30\n"
          ]
        }
      ]
    },
    {
      "cell_type": "code",
      "source": [
        "# 用 for range 迴圈計算 1 到 1000 之間 3 的倍數, 而且是奇數值的加總\n",
        "total = 0\n",
        "for i in range(1, 1001):\n",
        "    if i % 3 == 0 and i % 2 != 0:\n",
        "        total = total + i\n",
        "print(total) "
      ],
      "metadata": {
        "colab": {
          "base_uri": "https://localhost:8080/"
        },
        "id": "6II2ahX5fntS",
        "outputId": "eaa97dd5-9af5-4fe9-dbc4-41f89abb17ad"
      },
      "execution_count": null,
      "outputs": [
        {
          "output_type": "stream",
          "name": "stdout",
          "text": [
            "83667\n"
          ]
        }
      ]
    },
    {
      "cell_type": "code",
      "source": [
        "# 用 for range 迴圈將所有水果名印出\n",
        "fruits = ['Apple', 'Banana', 'Cherry']\n",
        "for i in range(len(fruits)):\n",
        "    print(fruits[i])"
      ],
      "metadata": {
        "colab": {
          "base_uri": "https://localhost:8080/"
        },
        "id": "DISNB6k_gZww",
        "outputId": "ee2a130e-9f71-451f-fb0a-e30a87b3c6cf"
      },
      "execution_count": null,
      "outputs": [
        {
          "output_type": "stream",
          "name": "stdout",
          "text": [
            "Apple\n",
            "Banana\n",
            "Cherry\n"
          ]
        }
      ]
    },
    {
      "cell_type": "code",
      "source": [
        "animals = \"鼠牛虎兔龍蛇馬羊猴雞狗豬\"\n",
        "# animals[:5]\n",
        "\n",
        "# for animal in animals:\n",
        "#     print(animal, end='')\n",
        "\n",
        "# for i in range(0, 5):\n",
        "#     print(animals[i], end='')"
      ],
      "metadata": {
        "colab": {
          "base_uri": "https://localhost:8080/"
        },
        "id": "PpYnUVAqht1h",
        "outputId": "54742be8-d7c2-4753-9b6e-f6f2711b9de4"
      },
      "execution_count": null,
      "outputs": [
        {
          "output_type": "stream",
          "name": "stdout",
          "text": [
            "鼠牛虎兔龍"
          ]
        }
      ]
    },
    {
      "cell_type": "markdown",
      "source": [
        "## while 迴圈"
      ],
      "metadata": {
        "id": "ci6-A3znjW3c"
      }
    },
    {
      "cell_type": "code",
      "source": [
        "# 用 while 迴圈計算 1 到 10 加總\n",
        "i = 1\n",
        "total = 0\n",
        "while i <= 10 :\n",
        "    total = total + i\n",
        "    i = i + 1\n",
        "print(total)    "
      ],
      "metadata": {
        "colab": {
          "base_uri": "https://localhost:8080/"
        },
        "id": "Byu2RXAJjZbd",
        "outputId": "eb69fdd8-04bf-41e2-8168-c0a13a180ef4"
      },
      "execution_count": null,
      "outputs": [
        {
          "output_type": "stream",
          "name": "stdout",
          "text": [
            "55\n"
          ]
        }
      ]
    },
    {
      "cell_type": "code",
      "source": [
        "# 用 while 迴圈計算 1 到 10 偶數加總\n",
        "i = 1\n",
        "total = 0\n",
        "while i <= 10:\n",
        "    if i % 2 == 0:\n",
        "        total = total + i\n",
        "    i = i + 1\n",
        "print(total)    "
      ],
      "metadata": {
        "colab": {
          "base_uri": "https://localhost:8080/"
        },
        "id": "Y25ET0PVj_Vq",
        "outputId": "7c43160a-2681-44cf-fd7e-ee6ed1cda93a"
      },
      "execution_count": null,
      "outputs": [
        {
          "output_type": "stream",
          "name": "stdout",
          "text": [
            "30\n"
          ]
        }
      ]
    },
    {
      "cell_type": "code",
      "source": [
        "# 用 while 迴圈計算 1 到 1000 之間 3 的倍數, 而且是奇數值的加總\n",
        "i = 1\n",
        "total = 0\n",
        "while i <= 1000:\n",
        "    if i % 3 == 0 and i % 2 !=0:\n",
        "        total = total + i\n",
        "    i = i + 1\n",
        "print(total) "
      ],
      "metadata": {
        "colab": {
          "base_uri": "https://localhost:8080/"
        },
        "id": "v69AjAeZkYP-",
        "outputId": "655cfc81-0a52-49b3-883e-8ad23a5e6ab2"
      },
      "execution_count": null,
      "outputs": [
        {
          "output_type": "stream",
          "name": "stdout",
          "text": [
            "83667\n"
          ]
        }
      ]
    },
    {
      "cell_type": "markdown",
      "source": [
        "## break, continue"
      ],
      "metadata": {
        "id": "E1_M_OS0kt8o"
      }
    },
    {
      "cell_type": "code",
      "source": [
        "# break 跳出迴圈\n",
        "for i in range(1, 11):\n",
        "    if i == 4:\n",
        "        break\n",
        "    print(i, end=',')"
      ],
      "metadata": {
        "colab": {
          "base_uri": "https://localhost:8080/"
        },
        "id": "Rt4dLyh5kyxX",
        "outputId": "3ca7a765-d929-45dd-da2e-066032a75410"
      },
      "execution_count": null,
      "outputs": [
        {
          "output_type": "stream",
          "name": "stdout",
          "text": [
            "1,2,3,"
          ]
        }
      ]
    },
    {
      "cell_type": "code",
      "source": [
        "# continue 跳過迴圈\n",
        "for i in range(1, 11):\n",
        "    if i == 4:\n",
        "        continue\n",
        "    print(i, end=',')"
      ],
      "metadata": {
        "colab": {
          "base_uri": "https://localhost:8080/"
        },
        "id": "gwqFuZpYlP-8",
        "outputId": "0d3b6b5b-f886-4bce-987f-6a3df62d5c8b"
      },
      "execution_count": null,
      "outputs": [
        {
          "output_type": "stream",
          "name": "stdout",
          "text": [
            "1,2,3,5,6,7,8,9,10,"
          ]
        }
      ]
    },
    {
      "cell_type": "code",
      "source": [
        "# 九九乘法表(一)\n",
        "for i in range(2, 10):\n",
        "    for j in range(2, 10):\n",
        "        print(\"{} * {} = {:02}\".format(i, j, i*j))\n",
        "    print('-' * 10)"
      ],
      "metadata": {
        "id": "fykjHTWYOjcD",
        "colab": {
          "base_uri": "https://localhost:8080/"
        },
        "outputId": "0293afec-1821-4d44-bbb1-63e127f90e2d"
      },
      "execution_count": null,
      "outputs": [
        {
          "output_type": "stream",
          "name": "stdout",
          "text": [
            "2 * 2 = 04\n",
            "2 * 3 = 06\n",
            "2 * 4 = 08\n",
            "2 * 5 = 10\n",
            "2 * 6 = 12\n",
            "2 * 7 = 14\n",
            "2 * 8 = 16\n",
            "2 * 9 = 18\n",
            "----------\n",
            "3 * 2 = 06\n",
            "3 * 3 = 09\n",
            "3 * 4 = 12\n",
            "3 * 5 = 15\n",
            "3 * 6 = 18\n",
            "3 * 7 = 21\n",
            "3 * 8 = 24\n",
            "3 * 9 = 27\n",
            "----------\n",
            "4 * 2 = 08\n",
            "4 * 3 = 12\n",
            "4 * 4 = 16\n",
            "4 * 5 = 20\n",
            "4 * 6 = 24\n",
            "4 * 7 = 28\n",
            "4 * 8 = 32\n",
            "4 * 9 = 36\n",
            "----------\n",
            "5 * 2 = 10\n",
            "5 * 3 = 15\n",
            "5 * 4 = 20\n",
            "5 * 5 = 25\n",
            "5 * 6 = 30\n",
            "5 * 7 = 35\n",
            "5 * 8 = 40\n",
            "5 * 9 = 45\n",
            "----------\n",
            "6 * 2 = 12\n",
            "6 * 3 = 18\n",
            "6 * 4 = 24\n",
            "6 * 5 = 30\n",
            "6 * 6 = 36\n",
            "6 * 7 = 42\n",
            "6 * 8 = 48\n",
            "6 * 9 = 54\n",
            "----------\n",
            "7 * 2 = 14\n",
            "7 * 3 = 21\n",
            "7 * 4 = 28\n",
            "7 * 5 = 35\n",
            "7 * 6 = 42\n",
            "7 * 7 = 49\n",
            "7 * 8 = 56\n",
            "7 * 9 = 63\n",
            "----------\n",
            "8 * 2 = 16\n",
            "8 * 3 = 24\n",
            "8 * 4 = 32\n",
            "8 * 5 = 40\n",
            "8 * 6 = 48\n",
            "8 * 7 = 56\n",
            "8 * 8 = 64\n",
            "8 * 9 = 72\n",
            "----------\n",
            "9 * 2 = 18\n",
            "9 * 3 = 27\n",
            "9 * 4 = 36\n",
            "9 * 5 = 45\n",
            "9 * 6 = 54\n",
            "9 * 7 = 63\n",
            "9 * 8 = 72\n",
            "9 * 9 = 81\n",
            "----------\n"
          ]
        }
      ]
    },
    {
      "cell_type": "code",
      "source": [
        "# 九九乘法表(二)\n",
        "for i in range(2, 10):\n",
        "    for j in range(2, 10):\n",
        "        print(\"{}*{}={:02}\".format(i, j, i*j), end=\"  \")\n",
        "    print()"
      ],
      "metadata": {
        "colab": {
          "base_uri": "https://localhost:8080/"
        },
        "id": "bWxlCObzQEn6",
        "outputId": "a29f4434-bbc1-453b-dcbb-4d083deb6f87"
      },
      "execution_count": null,
      "outputs": [
        {
          "output_type": "stream",
          "name": "stdout",
          "text": [
            "2*2=04  2*3=06  2*4=08  2*5=10  2*6=12  2*7=14  2*8=16  2*9=18  \n",
            "3*2=06  3*3=09  3*4=12  3*5=15  3*6=18  3*7=21  3*8=24  3*9=27  \n",
            "4*2=08  4*3=12  4*4=16  4*5=20  4*6=24  4*7=28  4*8=32  4*9=36  \n",
            "5*2=10  5*3=15  5*4=20  5*5=25  5*6=30  5*7=35  5*8=40  5*9=45  \n",
            "6*2=12  6*3=18  6*4=24  6*5=30  6*6=36  6*7=42  6*8=48  6*9=54  \n",
            "7*2=14  7*3=21  7*4=28  7*5=35  7*6=42  7*7=49  7*8=56  7*9=63  \n",
            "8*2=16  8*3=24  8*4=32  8*5=40  8*6=48  8*7=56  8*8=64  8*9=72  \n",
            "9*2=18  9*3=27  9*4=36  9*5=45  9*6=54  9*7=63  9*8=72  9*9=81  \n"
          ]
        }
      ]
    },
    {
      "cell_type": "markdown",
      "source": [
        "```\n",
        "*\n",
        "***\n",
        "*****\n",
        "*******\n",
        "*********\n",
        "```"
      ],
      "metadata": {
        "id": "5el6OfqKQqM9"
      }
    },
    {
      "cell_type": "code",
      "source": [
        "stars = \"\"\"\n",
        "*\n",
        "***\n",
        "*****\n",
        "*******\n",
        "*********\n",
        "\"\"\"\n",
        "print(stars)"
      ],
      "metadata": {
        "colab": {
          "base_uri": "https://localhost:8080/"
        },
        "id": "k_K0o3L3Rn4i",
        "outputId": "c58a7379-fa93-4f46-c48a-d4eeb37bebbb"
      },
      "execution_count": null,
      "outputs": [
        {
          "output_type": "stream",
          "name": "stdout",
          "text": [
            "\n",
            "*\n",
            "***\n",
            "*****\n",
            "*******\n",
            "*********\n",
            "\n"
          ]
        }
      ]
    },
    {
      "cell_type": "code",
      "source": [
        "# list(range(1, 10, 2))\n",
        "for i in range(1, 10, 2):\n",
        "    print(i * '*')"
      ],
      "metadata": {
        "colab": {
          "base_uri": "https://localhost:8080/"
        },
        "id": "rLPkaaO_Qv9P",
        "outputId": "8d252db6-fbef-46fe-8ae5-06ae11a8ab6d"
      },
      "execution_count": null,
      "outputs": [
        {
          "output_type": "stream",
          "name": "stdout",
          "text": [
            "*\n",
            "***\n",
            "*****\n",
            "*******\n",
            "*********\n"
          ]
        }
      ]
    },
    {
      "cell_type": "code",
      "source": [
        "for i in range(1, 10, 2):\n",
        "    print((9-i) * ' ', end='')\n",
        "    print(i * '*')"
      ],
      "metadata": {
        "colab": {
          "base_uri": "https://localhost:8080/"
        },
        "id": "kipJ9b5uR7QH",
        "outputId": "08e42878-80a3-40a8-8bc9-08f1cb66b90e"
      },
      "execution_count": null,
      "outputs": [
        {
          "output_type": "stream",
          "name": "stdout",
          "text": [
            "        *\n",
            "      ***\n",
            "    *****\n",
            "  *******\n",
            "*********\n"
          ]
        }
      ]
    },
    {
      "cell_type": "code",
      "source": [
        "for i in range(1, 10, 2):\n",
        "    print(int((9-i) / 2) * ' ', end='')\n",
        "    print(i * '*')"
      ],
      "metadata": {
        "colab": {
          "base_uri": "https://localhost:8080/"
        },
        "id": "FRyfN0GRSVTP",
        "outputId": "c58e9464-5bd3-485e-843d-90097a6fe3cd"
      },
      "execution_count": null,
      "outputs": [
        {
          "output_type": "stream",
          "name": "stdout",
          "text": [
            "    *\n",
            "   ***\n",
            "  *****\n",
            " *******\n",
            "*********\n"
          ]
        }
      ]
    },
    {
      "cell_type": "code",
      "source": [
        "for i in range(1, 10, 2):\n",
        "    print(\"{:9}\".format(i * '*'))\n",
        "\n",
        "for i in range(1, 10, 2):\n",
        "    print(\"{:>9}\".format(i * '*'))    \n",
        "\n",
        "for i in range(1, 10, 2):\n",
        "    print(\"{:^9}\".format(i * '*'))"
      ],
      "metadata": {
        "colab": {
          "base_uri": "https://localhost:8080/"
        },
        "id": "-hs5b0I7S8MM",
        "outputId": "cd6647a5-5ae0-453c-8c62-a6378ed26beb"
      },
      "execution_count": null,
      "outputs": [
        {
          "output_type": "stream",
          "name": "stdout",
          "text": [
            "*        \n",
            "***      \n",
            "*****    \n",
            "*******  \n",
            "*********\n",
            "        *\n",
            "      ***\n",
            "    *****\n",
            "  *******\n",
            "*********\n",
            "    *    \n",
            "   ***   \n",
            "  *****  \n",
            " ******* \n",
            "*********\n"
          ]
        }
      ]
    }
  ]
}