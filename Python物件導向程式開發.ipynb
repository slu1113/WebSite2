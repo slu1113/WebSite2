{
  "nbformat": 4,
  "nbformat_minor": 0,
  "metadata": {
    "colab": {
      "name": "Python物件導向程式開發.ipynb",
      "provenance": [],
      "collapsed_sections": [],
      "include_colab_link": true
    },
    "kernelspec": {
      "name": "python3",
      "display_name": "Python 3"
    },
    "language_info": {
      "name": "python"
    }
  },
  "cells": [
    {
      "cell_type": "markdown",
      "metadata": {
        "id": "view-in-github",
        "colab_type": "text"
      },
      "source": [
        "<a href=\"https://colab.research.google.com/github/slu1113/WebSite2/blob/master/Python%E7%89%A9%E4%BB%B6%E5%B0%8E%E5%90%91%E7%A8%8B%E5%BC%8F%E9%96%8B%E7%99%BC.ipynb\" target=\"_parent\"><img src=\"https://colab.research.google.com/assets/colab-badge.svg\" alt=\"Open In Colab\"/></a>"
      ]
    },
    {
      "cell_type": "markdown",
      "source": [
        "# 亂數模組"
      ],
      "metadata": {
        "id": "d6OmmrQa6cGO"
      }
    },
    {
      "cell_type": "code",
      "source": [
        ""
      ],
      "metadata": {
        "id": "3snck6eY3ytq"
      },
      "execution_count": null,
      "outputs": []
    },
    {
      "cell_type": "markdown",
      "source": [
        "## import 模組\n",
        "> import random  \n",
        "> random.randint()  \n",
        "> import random as r  \n",
        "> r.randint()   \n",
        "> from random import randint  \n",
        "> randint() \n"
      ],
      "metadata": {
        "id": "-P9E9eD761gF"
      }
    },
    {
      "cell_type": "markdown",
      "source": [
        "## 亂數函式\n",
        "> random()、randint()、choice()、  \n",
        "> sample()、randrange()、shuffle()  \n",
        "> uniform()"
      ],
      "metadata": {
        "id": "KHicZ5BC2BIO"
      }
    },
    {
      "cell_type": "markdown",
      "source": [
        "## 範例：擲骰子遊戲"
      ],
      "metadata": {
        "id": "2TXXkoTF4gvt"
      }
    },
    {
      "cell_type": "code",
      "source": [
        "# 擲骰子遊戲\n"
      ],
      "metadata": {
        "id": "kvJtd7Yu7Pvj"
      },
      "execution_count": null,
      "outputs": []
    },
    {
      "cell_type": "markdown",
      "source": [
        "### 練習：用特殊符號擲骰子"
      ],
      "metadata": {
        "id": "LphLb7Wn-mzV"
      }
    },
    {
      "cell_type": "code",
      "source": [
        "import random as r\n",
        "\n",
        "str1 = '⚀⚁⚂⚃⚄⚅'\n",
        "while True:\n",
        "  inkey=input(\"請輸入任意鍵再按【Enter】鍵擲骰子，直接按【Enter】鍵結束:\")\n"
      ],
      "metadata": {
        "id": "o7XO5W2UFHP0"
      },
      "execution_count": null,
      "outputs": []
    },
    {
      "cell_type": "markdown",
      "source": [
        "## 範例：大樂透中獎號碼"
      ],
      "metadata": {
        "id": "LljMX7Ltuh-9"
      }
    },
    {
      "cell_type": "code",
      "source": [
        "# 大樂透中獎號碼\n"
      ],
      "metadata": {
        "id": "EzEvhBuyqco8"
      },
      "execution_count": null,
      "outputs": []
    },
    {
      "cell_type": "markdown",
      "source": [
        "###練習：大樂透開獎-使用 shuffle 函式"
      ],
      "metadata": {
        "id": "UIWFVQ1lTsg9"
      }
    },
    {
      "cell_type": "code",
      "source": [
        "# 大樂透開獎(二)\n",
        "import random as r\n",
        "\n",
        "\n",
        "\n",
        "print(\"本期大樂透中獎號碼為：\",end=\"\")\n",
        "for i in range(0,6):\n",
        " if i == 5:\n",
        "   print(str(list1[i]))\n",
        " else:\n",
        "   print(str(list1[i]),end=',')\n",
        "print(\"本期大樂透特別號為：\" + str(special))"
      ],
      "metadata": {
        "id": "tfwUx9xeUAoe"
      },
      "execution_count": null,
      "outputs": []
    },
    {
      "cell_type": "markdown",
      "source": [
        "# 時間模組"
      ],
      "metadata": {
        "id": "mYIAL4Ezul-s"
      }
    },
    {
      "cell_type": "markdown",
      "source": [
        "## 常用時間函式\n",
        "> time()、sleep()、ctime()、localtime()"
      ],
      "metadata": {
        "id": "q9LzskP9_mz_"
      }
    },
    {
      "cell_type": "markdown",
      "source": [
        "## 計算時間"
      ],
      "metadata": {
        "id": "Z7HvWszt__K1"
      }
    },
    {
      "cell_type": "markdown",
      "source": [
        "### 範例：計算時間、取得本地時間"
      ],
      "metadata": {
        "id": "gm3yMNn4qBWy"
      }
    },
    {
      "cell_type": "code",
      "source": [
        "# 計算時間\n"
      ],
      "metadata": {
        "id": "puUHEcVkvbqs"
      },
      "execution_count": null,
      "outputs": []
    },
    {
      "cell_type": "code",
      "source": [
        "# 取得本地時間\n",
        "import time\n"
      ],
      "metadata": {
        "id": "xvys7eZLOp4E"
      },
      "execution_count": null,
      "outputs": []
    },
    {
      "cell_type": "markdown",
      "source": [
        "## 中華民國年月日"
      ],
      "metadata": {
        "id": "OxGSrXF_AYf9"
      }
    },
    {
      "cell_type": "markdown",
      "source": [
        "### 範例：轉換為中華民國年月日"
      ],
      "metadata": {
        "id": "91lN9vrEphgk"
      }
    },
    {
      "cell_type": "code",
      "source": [
        "# 轉換為本地時間、中華民國年月日\n",
        "import time\n"
      ],
      "metadata": {
        "id": "frg3YY0UxAtd"
      },
      "execution_count": null,
      "outputs": []
    },
    {
      "cell_type": "markdown",
      "source": [
        "###練習：將時間戳記轉換為中華民國年月日\n",
        "\n",
        "\n"
      ],
      "metadata": {
        "id": "u2DvNzPqOP4_"
      }
    },
    {
      "cell_type": "code",
      "source": [
        "# 將時間戳記轉換為中華民國年月日 \n",
        "import time\n",
        "seconds=1293840000.0\n"
      ],
      "metadata": {
        "id": "RxFCMq4XcEQA"
      },
      "execution_count": null,
      "outputs": []
    },
    {
      "cell_type": "markdown",
      "source": [
        "# 檔案操作"
      ],
      "metadata": {
        "id": "ukUTswy10DpV"
      }
    },
    {
      "cell_type": "markdown",
      "source": [
        "## os 模組"
      ],
      "metadata": {
        "id": "O2BsnluzBDGG"
      }
    },
    {
      "cell_type": "markdown",
      "source": [
        "### os 函式\n",
        "> getcwd()、remove()、mkdir()、rmdir()、makedirs()"
      ],
      "metadata": {
        "id": "jr4orsidJce2"
      }
    },
    {
      "cell_type": "code",
      "source": [
        "# 取得目前的工作目錄\n",
        "import os\n"
      ],
      "metadata": {
        "id": "Z9F7P-qM0GIr"
      },
      "execution_count": null,
      "outputs": []
    },
    {
      "cell_type": "code",
      "source": [
        "# 刪除檔案\n",
        "os.remove(\"hello.py\")"
      ],
      "metadata": {
        "id": "fWe2wjBPzYV1"
      },
      "execution_count": null,
      "outputs": []
    },
    {
      "cell_type": "code",
      "source": [
        "# 建立目錄、刪除目錄、建立次目錄、刪除多層目錄\n",
        "# os.mkdir(\"第一層目錄\")\n",
        "# os.rmdir(\"第一層目錄\") #必須是空目錄\n",
        "# os.mkdir(\"第一層目錄/第二層目錄\")  # 建立多層出現錯誤\n",
        "# os.makedirs(\"第一層目錄/第二層目錄\") # 可建立多層目錄"
      ],
      "metadata": {
        "id": "r8DOYtYW4kYr"
      },
      "execution_count": null,
      "outputs": []
    },
    {
      "cell_type": "code",
      "source": [
        "# 建立 hello.py 檔\n",
        "%%writefile hello.py\n",
        "print(\"hello\")"
      ],
      "metadata": {
        "id": "fGxNoOiI55JO"
      },
      "execution_count": null,
      "outputs": []
    },
    {
      "cell_type": "code",
      "source": [
        "%run hello.py"
      ],
      "metadata": {
        "id": "PgAii4XT6qcF"
      },
      "execution_count": null,
      "outputs": []
    },
    {
      "cell_type": "markdown",
      "source": [
        "### 刪除檔案"
      ],
      "metadata": {
        "id": "VVVAw6epBi0e"
      }
    },
    {
      "cell_type": "code",
      "source": [
        "# 刪除檔案\n",
        "import os\n",
        "file = \"hello.py\"\n"
      ],
      "metadata": {
        "id": "O7APjMrxTuDo"
      },
      "execution_count": null,
      "outputs": []
    },
    {
      "cell_type": "code",
      "source": [
        "# 刪除目錄\n",
        "import os\n",
        "\n",
        "dir=\"dir1\"\n"
      ],
      "metadata": {
        "id": "UVUNQIho0Vn8"
      },
      "execution_count": null,
      "outputs": []
    },
    {
      "cell_type": "markdown",
      "source": [
        "##shutil 模組"
      ],
      "metadata": {
        "id": "EETM-g0f4Mg0"
      }
    },
    {
      "cell_type": "code",
      "source": [
        "# 刪除指定目錄(非空目錄)\n",
        "import shutil\n",
        "shutil.rmtree(\"第一層目錄/第二層目錄\")"
      ],
      "metadata": {
        "id": "cuDrSbfc4WNk"
      },
      "execution_count": null,
      "outputs": []
    },
    {
      "cell_type": "markdown",
      "source": [
        "## os.path 模組"
      ],
      "metadata": {
        "id": "3OCgw1EECtce"
      }
    },
    {
      "cell_type": "markdown",
      "source": [
        "### os.path 的函式\n",
        ">abspath()、basename()、exists()、getsize()  \n",
        ">split()、join()  "
      ],
      "metadata": {
        "id": "bXud4tkAOuAH"
      }
    },
    {
      "cell_type": "markdown",
      "source": [
        "### 範例\n",
        "\n",
        "顯示檔案的路徑、大小，分割檔案路徑。"
      ],
      "metadata": {
        "id": "PCvC-T893Ffw"
      }
    },
    {
      "cell_type": "code",
      "source": [
        "# os.path 函式操作\n",
        "import os\n",
        "file = \"hello.py\"\n",
        "file = os.path.join(os.getcwd(),file)\n",
        "dir = \"dir1\"\n"
      ],
      "metadata": {
        "id": "4oYB4kSMWs7w"
      },
      "execution_count": null,
      "outputs": []
    },
    {
      "cell_type": "code",
      "source": [
        "# 檔案大小\n",
        "import os\n",
        "file = \"hello.py\"\n",
        "file = os.path.join(os.getcwd(),file)\n"
      ],
      "metadata": {
        "id": "m_mMr0CxYaTx"
      },
      "execution_count": null,
      "outputs": []
    },
    {
      "cell_type": "markdown",
      "source": [
        "###練習一\n",
        "\n",
        "建立 myDir 目錄，並在 myDir 目錄中建立 myFile.py 檔。"
      ],
      "metadata": {
        "id": "LIsP5F3yhouW"
      }
    },
    {
      "cell_type": "code",
      "source": [
        "import os\n",
        "dir=\"myDir\"\n"
      ],
      "metadata": {
        "id": "sZpoi8rQhpQV"
      },
      "execution_count": null,
      "outputs": []
    },
    {
      "cell_type": "markdown",
      "source": [
        "###練習二\n",
        "\n",
        "若 myFile.py 已建立，顯示該檔案的完整路徑和檔案大小。"
      ],
      "metadata": {
        "id": "fCBP_WxiGzsQ"
      }
    },
    {
      "cell_type": "code",
      "source": [
        "file = \"/content/myDir/myFile.py\"\n"
      ],
      "metadata": {
        "id": "JnZD0pvJHRyt"
      },
      "execution_count": null,
      "outputs": []
    },
    {
      "cell_type": "markdown",
      "source": [
        "## os.walk 函式"
      ],
      "metadata": {
        "id": "MGto3jmEDTvE"
      }
    },
    {
      "cell_type": "code",
      "source": [
        "# 下載 Google 雲端硬碟的 oswalk.zip 並解壓縮\n",
        "!gdown '1PbhNT4duXnW1L8WYpKpmctxuU1G2mDKX' --output oswalk.zip\n",
        "!unzip oswalk.zip"
      ],
      "metadata": {
        "id": "OvEuC1SeSWEU"
      },
      "execution_count": null,
      "outputs": []
    },
    {
      "cell_type": "markdown",
      "source": [
        "###範例：取得 oswork 目錄的檔案路徑、目錄串列和檔案串列。"
      ],
      "metadata": {
        "id": "7YSNZJe0HGzt"
      }
    },
    {
      "cell_type": "code",
      "source": [
        "# oswork 函式\n",
        "import os\n",
        "cur_path=\"/content/oswalk\"\n"
      ],
      "metadata": {
        "id": "Kaq7xWBoao0h"
      },
      "execution_count": null,
      "outputs": []
    },
    {
      "cell_type": "markdown",
      "source": [
        "###練習：計算 oswork 目錄及其子目錄共有幾個 txt 檔案。"
      ],
      "metadata": {
        "id": "0Elpw-ehr5Jl"
      }
    },
    {
      "cell_type": "code",
      "source": [
        "# oswork 函式\n",
        "import os\n",
        "cur_path=\"/content/oswalk\"\n",
        "sample_tree=os.walk(cur_path)\n"
      ],
      "metadata": {
        "id": "J-SUpKJ_sJWe"
      },
      "execution_count": null,
      "outputs": []
    },
    {
      "cell_type": "markdown",
      "source": [
        "## glob 模組"
      ],
      "metadata": {
        "id": "HRKMKI3cDhTV"
      }
    },
    {
      "cell_type": "markdown",
      "source": [
        "###範例：取得 images 目錄中的所有 jpg 檔。"
      ],
      "metadata": {
        "id": "aazlZIytIZfV"
      }
    },
    {
      "cell_type": "code",
      "source": [
        "# glob 函式\n",
        "import glob\n"
      ],
      "metadata": {
        "id": "cas8PwBGDgUF"
      },
      "execution_count": null,
      "outputs": []
    },
    {
      "cell_type": "markdown",
      "source": [
        "###練習：取得 oswalk/Dir 中的所有 txt 檔。"
      ],
      "metadata": {
        "id": "OyQKwUaErSwl"
      }
    },
    {
      "cell_type": "code",
      "source": [
        "# glob 函式\n",
        "import glob\n"
      ],
      "metadata": {
        "id": "cJ0V0Re-rhw1"
      },
      "execution_count": null,
      "outputs": []
    },
    {
      "cell_type": "markdown",
      "source": [
        "# 檔案的讀寫"
      ],
      "metadata": {
        "id": "Myqt0buWD5yc"
      }
    },
    {
      "cell_type": "markdown",
      "source": [
        "### 語法：\n",
        "> open(檔案名稱[,模式][,編碼])  \n",
        "> 檔案名稱：設定檔案的名稱，它是字串型態。  \n",
        "> 模式：設定檔案開啟的模式，省略將預設為讀取模式。  \n",
        "> r\t讀取模式，此為預設模式。  \n",
        "> w\t寫入模式，若檔案已存在，內容將會被覆蓋。  \n",
        "> a\t附加模式，若檔案已存在，內容會被附加至檔案尾端。  \n",
        "> 編碼：指定檔案的編碼模式，一般可設定cp950或UTF-8 (大小寫都可以)。\n",
        "\n",
        "\n"
      ],
      "metadata": {
        "id": "rg2Q7T7fFJZO"
      }
    },
    {
      "cell_type": "markdown",
      "source": [
        "#### 查看檔案的編碼"
      ],
      "metadata": {
        "id": "LekgAFNmJ67u"
      }
    },
    {
      "cell_type": "code",
      "source": [
        "#查看檔案的編碼\n",
        "import locale\n",
        "locale.getpreferredencoding()"
      ],
      "metadata": {
        "id": "4DFDRfCvm3EP"
      },
      "execution_count": null,
      "outputs": []
    },
    {
      "cell_type": "markdown",
      "source": [
        "## 文字檔案的讀寫"
      ],
      "metadata": {
        "id": "KBjsC4bYmMWX"
      }
    },
    {
      "cell_type": "code",
      "source": [
        "# 寫入檔案\n",
        "content='''Hello Python\n",
        "中文測試\n",
        "Welcome\n",
        "'''\n"
      ],
      "metadata": {
        "id": "GuivTAqEl59w"
      },
      "execution_count": null,
      "outputs": []
    },
    {
      "cell_type": "code",
      "source": [
        "# 讀取檔案\n"
      ],
      "metadata": {
        "id": "RkdwKsaynWcQ"
      },
      "execution_count": null,
      "outputs": []
    },
    {
      "cell_type": "code",
      "source": [
        "# 使用 with open \n"
      ],
      "metadata": {
        "id": "oEb_Qg-7peIX"
      },
      "execution_count": null,
      "outputs": []
    },
    {
      "cell_type": "markdown",
      "source": [
        "###範例：求各列數字的總和"
      ],
      "metadata": {
        "id": "SAJYm2eXK4pC"
      }
    },
    {
      "cell_type": "code",
      "source": [
        "# 寫入 2\\n4\\n6 字串，計算數字和\n",
        "with open(\"data1.txt\",\"w\",encoding=\"utf-8\") as f:\n",
        "  f.write(\"2\\n4\\n6\")\n",
        "\n"
      ],
      "metadata": {
        "id": "i-YMxFvqLO7T"
      },
      "execution_count": null,
      "outputs": []
    },
    {
      "cell_type": "markdown",
      "source": [
        "### 範例：移動到指定的的位置，讀取一列或n個字元。"
      ],
      "metadata": {
        "id": "YrhNgxTLYHE0"
      }
    },
    {
      "cell_type": "code",
      "source": [
        "# read、realline\n",
        "f=open(\"file1.txt\",\"r\",encoding=\"utf-8\")\n",
        "f.seek(0)  # 移至開始的位置\n",
        "print(f.tell())\n",
        "line1=f.readline() # 讀取一列\n",
        "print(line1)\n",
        "print(f.tell())\n",
        "\n",
        "data=f.read(5) # 讀取5個字元\n",
        "print(data)\n",
        "\n",
        "data=f.read()  # 讀取剩下的內容\n",
        "print(data)\n",
        "f.close()"
      ],
      "metadata": {
        "id": "6H9w7dl0rQyP"
      },
      "execution_count": null,
      "outputs": []
    },
    {
      "cell_type": "markdown",
      "source": [
        "## 二進位檔案的讀寫"
      ],
      "metadata": {
        "id": "IwOgvdqOcCMT"
      }
    },
    {
      "cell_type": "code",
      "source": [
        "# 寫入二進位檔案\n",
        "content='''Hello Python\n",
        "中文測試\n",
        "Welcome\n",
        "'''\n"
      ],
      "metadata": {
        "id": "V7tNI7azcIeT"
      },
      "execution_count": null,
      "outputs": []
    },
    {
      "cell_type": "code",
      "source": [
        "# 讀取二進位檔案\n"
      ],
      "metadata": {
        "id": "TdmliBBFcqtC"
      },
      "execution_count": null,
      "outputs": []
    },
    {
      "cell_type": "markdown",
      "source": [
        "### 二進位檔案的應用"
      ],
      "metadata": {
        "id": "nJNtQqeJ92fS"
      }
    },
    {
      "cell_type": "code",
      "source": [
        "# 二進位檔案的應用\n",
        "import requests\n",
        "url = \"https://www.google.com/images/branding/googlelogo/2x/googlelogo_color_272x92dp.png\"\n",
        "# 抓取圖片\n",
        ")\n",
        "# 存成檔案\n"
      ],
      "metadata": {
        "id": "pbThxOX-htUc"
      },
      "execution_count": null,
      "outputs": []
    },
    {
      "cell_type": "markdown",
      "source": [
        "# 例外處理"
      ],
      "metadata": {
        "id": "6X_VRgTxEDg1"
      }
    },
    {
      "cell_type": "markdown",
      "source": [
        "## try…except 的語法  \n",
        "## try…   \n",
        "## except…   \n",
        "## else…   \n",
        "## finally  "
      ],
      "metadata": {
        "id": "l54bqXJyfP4N"
      }
    },
    {
      "cell_type": "code",
      "source": [
        "# 語法測試、練習\n"
      ],
      "metadata": {
        "id": "l3CnnPo7J6xs"
      },
      "execution_count": null,
      "outputs": []
    },
    {
      "cell_type": "code",
      "source": [
        "try:\n",
        "  f=open(\"f1.txt\",\"r\")\n",
        "except FileNotFoundError as  e:\n",
        "  print(\"file no exist\")"
      ],
      "metadata": {
        "id": "BcV8rsNvJA-e"
      },
      "execution_count": null,
      "outputs": []
    },
    {
      "cell_type": "markdown",
      "source": [
        "## try…except常用例外錯誤表  \n",
        "> AttributeError\t物件無此屬性。  \n",
        "> Exception\t所有的錯誤。  \n",
        "> FileNotFoundError\topen()開啟檔案時找不檔案的錯誤。  \n",
        "> IOError\t輸入/ 輸出錯誤。  \n",
        "> ZeroDivisionError\t除數為0的錯誤。\n"
      ],
      "metadata": {
        "id": "c190vqCx9qFv"
      }
    },
    {
      "cell_type": "markdown",
      "source": [
        "## 範例：捕捉非數值資料和除數為0的錯誤"
      ],
      "metadata": {
        "id": "rtvHjjX9L_Z_"
      }
    },
    {
      "cell_type": "code",
      "source": [
        "try:\n",
        "  a=int(input(\"a=\"))\n",
        "  b=int(input(\"b=\"))\n",
        "  r=a % b\n",
        "\n",
        "\n",
        "\n",
        "finally:\n",
        "  print(\"一定會執行的區塊\")"
      ],
      "metadata": {
        "id": "ZZZYT3oLGaFL"
      },
      "execution_count": null,
      "outputs": []
    },
    {
      "cell_type": "markdown",
      "source": [
        "# 物件和類別"
      ],
      "metadata": {
        "id": "ySJg_LWlxy4H"
      }
    },
    {
      "cell_type": "markdown",
      "source": [
        "## 內建整數類別"
      ],
      "metadata": {
        "id": "hMpreKdNX6ca"
      }
    },
    {
      "cell_type": "code",
      "source": [
        "# 內建類別建立物件\n",
        "a=1\n",
        "b=2\n",
        "print(type(a))\n",
        "print(type(b))"
      ],
      "metadata": {
        "id": "TpUCdqPzybiH"
      },
      "execution_count": null,
      "outputs": []
    },
    {
      "cell_type": "markdown",
      "source": [
        "## 定義類別"
      ],
      "metadata": {
        "id": "Swts6TxrYCAT"
      }
    },
    {
      "cell_type": "code",
      "source": [
        "# 定義類別\n",
        "\n",
        "\n",
        "# 建立物件\n",
        "\n",
        "# 建立第二個物件\n"
      ],
      "metadata": {
        "id": "M6IiokqByaRo"
      },
      "execution_count": null,
      "outputs": []
    },
    {
      "cell_type": "markdown",
      "source": [
        "### 建構式"
      ],
      "metadata": {
        "id": "qbTw_Oa1YPJS"
      }
    },
    {
      "cell_type": "code",
      "source": [
        "# 建構式\n",
        "class Person():\n",
        "\n",
        "\n",
        "# 建立物件\n",
        "\n",
        "# 建立第二個物件\n"
      ],
      "metadata": {
        "id": "QhJyPibRFE0P"
      },
      "execution_count": null,
      "outputs": []
    },
    {
      "cell_type": "markdown",
      "source": [
        "### 參數預設值"
      ],
      "metadata": {
        "id": "js5mb8_rYnFz"
      }
    },
    {
      "cell_type": "code",
      "source": [
        "# 參數預設值\n",
        "class Person():\n",
        "  def __init__(self,name=\"小明\",age=18):\n",
        "    self.name=name\n",
        "    self.age=age\n",
        "  def hello(self):\n",
        "    print(self.name + \"說哈囉\")\n",
        "\n",
        "# 建立物件\n",
        "person1=Person(\"David\",30)\n",
        "print(person1.name)  \n",
        "print(person1.age) \n",
        "person1.hello()\n",
        "# 建立第二個物件\n",
        "person2=Person()\n",
        "print(person2.name)\n",
        "print(person2.age)\n",
        "person2.hello()"
      ],
      "metadata": {
        "id": "j-hMeRSWtH9B"
      },
      "execution_count": null,
      "outputs": []
    },
    {
      "cell_type": "markdown",
      "source": [
        "### 練習：建立類別求矩形的面積"
      ],
      "metadata": {
        "id": "ekBi0DkpvbLx"
      }
    },
    {
      "cell_type": "code",
      "source": [
        "# 練習：建立類別求矩形的面積\n"
      ],
      "metadata": {
        "id": "_f3k_nEhtlYX"
      },
      "execution_count": null,
      "outputs": []
    },
    {
      "cell_type": "markdown",
      "source": [
        "## 類別封裝"
      ],
      "metadata": {
        "id": "LQv8JFnyyQDo"
      }
    },
    {
      "cell_type": "markdown",
      "source": [
        "###建立私用屬性和方法"
      ],
      "metadata": {
        "id": "vY7X0U6hYcdv"
      }
    },
    {
      "cell_type": "code",
      "source": [
        "# 類別封裝\n",
        "class Person():\n",
        "  \n",
        "\n",
        "\n",
        "\n",
        "  def talk(self):\n",
        "    self.__hello()\n",
        "    print(\"也喜歡Python!\")    \n",
        "\n"
      ],
      "metadata": {
        "id": "WTd3PMtytPvv"
      },
      "execution_count": null,
      "outputs": []
    },
    {
      "cell_type": "markdown",
      "source": [
        "## 類別繼承"
      ],
      "metadata": {
        "id": "SWFN0HBJiRa9"
      }
    },
    {
      "cell_type": "markdown",
      "source": [
        "### 建立子類別  \n",
        "> 語法： class 類別名稱(父類別 ):   \n",
        "> 例如： class Son(Person):"
      ],
      "metadata": {
        "id": "D3cVCfJAC7ku"
      }
    },
    {
      "cell_type": "markdown",
      "source": [
        "### 類別繼承範例一：覆寫父類別的建構式"
      ],
      "metadata": {
        "id": "BOgLSA6RDmXF"
      }
    },
    {
      "cell_type": "code",
      "source": [
        "# 類別繼承\n",
        "class Person():\n",
        "  def __init__(self,name):\n",
        "    self.name=name\n",
        "  def hello(self):\n",
        "    print(self.name + \"說哈囉\")\n",
        "\n",
        "class Son(Person):\n",
        "  # 覆寫父類別的建構式\n",
        "\n",
        "  # 新增子類別的方法\n",
        "   \n",
        "\n",
        "# 建立父類別物件\n",
        "\n",
        "# 建立子類別物件\n"
      ],
      "metadata": {
        "id": "eF7SFQYytPzP"
      },
      "execution_count": null,
      "outputs": []
    },
    {
      "cell_type": "markdown",
      "source": [
        "### 類別繼承範例二：執行super()方法"
      ],
      "metadata": {
        "id": "jRYd-_WXfyy0"
      }
    },
    {
      "cell_type": "code",
      "source": [
        "# 使用 super() 方法執行父類別的方法\n",
        "class Person():\n",
        "  def __init__(self,name):\n",
        "    self.name=name\n",
        "  def hello(self):\n",
        "    print(self.name + \"說哈囉\")\n",
        "\n",
        "class Son(Person):\n",
        "  # 覆寫父類別的建構式\n",
        "  def __init__(self,name):\n",
        "    super().__init__(name)\n",
        "  # 新增子類別的方法\n",
        "  def talk(self):\n",
        "    super().hello()\n",
        "    print(self.name + \"也會說英語\")    \n",
        "\n",
        "# 建立父類別物件\n",
        "person1=Person(\"David\")\n",
        "person1.hello()\n",
        "# 建立子類別物件\n",
        "son=Son(\"joe\")\n",
        "son.talk()"
      ],
      "metadata": {
        "id": "_GSsDqH5NqS6"
      },
      "execution_count": null,
      "outputs": []
    },
    {
      "cell_type": "markdown",
      "source": [
        "## 多型"
      ],
      "metadata": {
        "id": "EVW8f1NQGXMq"
      }
    },
    {
      "cell_type": "code",
      "source": [
        "# 多重繼承和多型\n",
        "class Father():         #定義父類別         \n",
        "    def say(self):      #定義共用方法 \n",
        "        print(\"明天會更好!\")\n",
        "        \n",
        "class Mother():         #定義父類別  \n",
        "    def say(self):      #定義共用方法 \n",
        "        print(\"包容、尊重!\")\n",
        "        \n",
        "class Child(Father,Mother): #定義子類別  \n",
        "    pass\n",
        "        \n",
        "child = Child() #建立 child 物件\n",
        "child.say()     #明天會更好! "
      ],
      "metadata": {
        "id": "v4_pE9gBGgyT"
      },
      "execution_count": null,
      "outputs": []
    },
    {
      "cell_type": "markdown",
      "source": [
        "## 類別應用"
      ],
      "metadata": {
        "id": "ihUXDjgwiiD8"
      }
    },
    {
      "cell_type": "code",
      "source": [
        "# 建立矩形類別求矩形面積、三角形類別繼承矩形類別求三角形面積\n",
        "class Rectangle():\n",
        "  def __init__(self,width,height):\n",
        "\n",
        "\n",
        "class Triangle():\n",
        "\n",
        "\n"
      ],
      "metadata": {
        "id": "fS0AS4bAjE5b"
      },
      "execution_count": null,
      "outputs": []
    },
    {
      "cell_type": "markdown",
      "source": [
        "# 建立 Python 專案"
      ],
      "metadata": {
        "id": "q4vUZOzbiq-S"
      }
    },
    {
      "cell_type": "markdown",
      "source": [
        "## 準備工作"
      ],
      "metadata": {
        "id": "XVWR3PTqFdXV"
      }
    },
    {
      "cell_type": "code",
      "source": [
        "# 依網址從瀏覽器下載 day3範例檔.zip \n",
        "# 並解壓縮至自建立工作目錄(例如：C:\\day3)\n",
        "https://drive.google.com/file/d/1kN285dn58eES93G-OUSNQ-T6kZf5p1SZ/view?usp=sharing"
      ],
      "metadata": {
        "id": "OektJIsA7Cab"
      },
      "execution_count": null,
      "outputs": []
    },
    {
      "cell_type": "markdown",
      "source": [
        "## 使用 Spyder 開啟專案"
      ],
      "metadata": {
        "id": "yTCA0jzmwvnU"
      }
    },
    {
      "cell_type": "code",
      "source": [
        "# 開啟 projectHello 專案"
      ],
      "metadata": {
        "id": "a-neHOnwF7C1"
      },
      "execution_count": null,
      "outputs": []
    },
    {
      "cell_type": "markdown",
      "source": [
        "## 使用 Spyder 建立新的專案"
      ],
      "metadata": {
        "id": "cwlY0DxIFr81"
      }
    },
    {
      "cell_type": "code",
      "source": [
        "# myprojectHello 專案"
      ],
      "metadata": {
        "id": "cipuahjPjFdj"
      },
      "execution_count": null,
      "outputs": []
    },
    {
      "cell_type": "markdown",
      "source": [
        "## 建立含有類別的專案"
      ],
      "metadata": {
        "id": "SKhlm932xaa7"
      }
    },
    {
      "cell_type": "code",
      "source": [
        "# myprojectArea 專案"
      ],
      "metadata": {
        "id": "cIw5kqGNz67c"
      },
      "execution_count": null,
      "outputs": []
    },
    {
      "cell_type": "markdown",
      "source": [
        "# 打造自己的模組"
      ],
      "metadata": {
        "id": "YuGoFq7ni1g8"
      }
    },
    {
      "cell_type": "markdown",
      "source": [
        "### 準備工作"
      ],
      "metadata": {
        "id": "mfXaGafT0PUr"
      }
    },
    {
      "cell_type": "code",
      "source": [
        "# module-1.py\n",
        "def add(n1,n2):\n",
        "    return n1+n2\n",
        "    \n",
        "def sub(n1,n2):\n",
        "    return n1-n2\n",
        "\n",
        "print(add(5,2))  # 7\n",
        "print(sub(5,2))  # 3"
      ],
      "metadata": {
        "id": "eEwLldUHDn_V"
      },
      "execution_count": null,
      "outputs": []
    },
    {
      "cell_type": "markdown",
      "source": [
        "### 打造自己的模組"
      ],
      "metadata": {
        "id": "sr-8KYsq1LCj"
      }
    },
    {
      "cell_type": "code",
      "source": [
        "# calculate.py\n",
        "def add(n1,n2):\n",
        "    return n1+n2\n",
        "    \n",
        "def sub(n1,n2):\n",
        "    return n1-n2"
      ],
      "metadata": {
        "id": "dV-LOeIpD77l"
      },
      "execution_count": null,
      "outputs": []
    },
    {
      "cell_type": "markdown",
      "source": [
        "### 匯入自己建立的模組\n",
        "> module-2.py、module-3.py、module-4.py  \n",
        "> module-5.py、module-6.py、module-7.py"
      ],
      "metadata": {
        "id": "t7I6KTmH1LIs"
      }
    },
    {
      "cell_type": "code",
      "source": [
        "# module-2.py\n",
        "import calculate  # 匯入 calculate 模組\n",
        "\n",
        "print(calculate.add(5,2))  # 7\n",
        "print(calculate.sub(5,2))  # 3"
      ],
      "metadata": {
        "id": "YfywbgneEHk1"
      },
      "execution_count": null,
      "outputs": []
    },
    {
      "cell_type": "code",
      "source": [
        "# module-3.py\n",
        "from calculate import add,sub # 匯入模組內函式\n",
        "\n",
        "print(add(5,2))  # 7\n",
        "print(sub(5,2))  # 3"
      ],
      "metadata": {
        "id": "w1nKC9DfEdEs"
      },
      "execution_count": null,
      "outputs": []
    },
    {
      "cell_type": "code",
      "source": [
        "# module-4.py\n",
        "from calculate import add\n",
        "\n",
        "print(add(5,2))  # 7\n",
        "print(sub(5,2))  # NameError: name 'sub' is not defined"
      ],
      "metadata": {
        "id": "eqtl0xZiE2Ft"
      },
      "execution_count": null,
      "outputs": []
    },
    {
      "cell_type": "code",
      "source": [
        "# module-5.py\n",
        "from calculate import *\n",
        "\n",
        "print(add(5,2))  # 7\n",
        "print(sub(5,2))  # 3"
      ],
      "metadata": {
        "id": "49RbK7ncE2KU"
      },
      "execution_count": null,
      "outputs": []
    },
    {
      "cell_type": "code",
      "source": [
        "# module-6.py\n",
        "from calculate import add as a\n",
        "\n",
        "print(a(5,2))  # 7"
      ],
      "metadata": {
        "id": "gk4B5qsgFJJV"
      },
      "execution_count": null,
      "outputs": []
    },
    {
      "cell_type": "code",
      "source": [
        "# module-7.py\n",
        "import calculate as cal # 匯入 calculate 模組，並取別名為 cal\n",
        "\n",
        "print(cal.add(5,2))  # 7\n",
        "print(cal.sub(5,2))  # 3"
      ],
      "metadata": {
        "id": "PUscTCpnFJNl"
      },
      "execution_count": null,
      "outputs": []
    },
    {
      "cell_type": "markdown",
      "source": [
        "### 將自建專案存成多個模組"
      ],
      "metadata": {
        "id": "cuRFh6sf1LVb"
      }
    },
    {
      "cell_type": "code",
      "source": [
        "# myprojectArea2 專案 \n",
        "# Rectangle.py、Triangle.py、index.py"
      ],
      "metadata": {
        "id": "zBGqtq9ujF6c"
      },
      "execution_count": null,
      "outputs": []
    },
    {
      "cell_type": "code",
      "source": [
        "# Rectangle.py\n",
        "class Rectangle:\n",
        "    def __init__(self,width,height):\n",
        "        self.width=width\n",
        "        self.height=height\n",
        "    def area(self):\n",
        "        return self.width * self.height"
      ],
      "metadata": {
        "id": "3LIgyBcxFZI8"
      },
      "execution_count": null,
      "outputs": []
    },
    {
      "cell_type": "code",
      "source": [
        "# Triangle.py\n",
        "from area2package.Rectangle import Rectangle\n",
        "\n",
        "class Triangle(Rectangle):\n",
        "    def area2(self):\n",
        "        return super().area() /2"
      ],
      "metadata": {
        "id": "d3SnJXZIFZLz"
      },
      "execution_count": null,
      "outputs": []
    },
    {
      "cell_type": "code",
      "source": [
        "# index.py\n",
        "from area2package.Rectangle import Rectangle\n",
        "from area2package.Triangle import Triangle\n",
        "\n",
        "rec = Rectangle(5,6)\n",
        "print(rec.area())\n",
        "\n",
        "tri= Triangle(5,6)\n",
        "print(tri.area())\n",
        "print(tri.area2())"
      ],
      "metadata": {
        "id": "8DTBrtybFZPM"
      },
      "execution_count": null,
      "outputs": []
    }
  ]
}