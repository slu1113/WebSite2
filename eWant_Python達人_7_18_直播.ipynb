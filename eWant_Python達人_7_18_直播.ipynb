{
  "nbformat": 4,
  "nbformat_minor": 0,
  "metadata": {
    "colab": {
      "name": "eWant-Python達人 7/18 直播.ipynb",
      "provenance": [],
      "include_colab_link": true
    },
    "kernelspec": {
      "name": "python3",
      "display_name": "Python 3"
    },
    "language_info": {
      "name": "python"
    }
  },
  "cells": [
    {
      "cell_type": "markdown",
      "metadata": {
        "id": "view-in-github",
        "colab_type": "text"
      },
      "source": [
        "<a href=\"https://colab.research.google.com/github/slu1113/WebSite2/blob/master/eWant_Python%E9%81%94%E4%BA%BA_7_18_%E7%9B%B4%E6%92%AD.ipynb\" target=\"_parent\"><img src=\"https://colab.research.google.com/assets/colab-badge.svg\" alt=\"Open In Colab\"/></a>"
      ]
    },
    {
      "cell_type": "code",
      "execution_count": null,
      "metadata": {
        "id": "i6l9haw01Wl1"
      },
      "outputs": [],
      "source": [
        "%matplotlib inline\n",
        "\n",
        "import numpy as np\n",
        "import pandas as pd\n",
        "import matplotlib.pyplot as plt"
      ]
    },
    {
      "cell_type": "code",
      "source": [
        "h = float(input('輸入身高'))\n",
        "w = float(input('輸入體重'))\n",
        "\n",
        "bmi = w/(h/100)**2\n",
        "print('你的BMI值為' + str(bmi))\n",
        "\n",
        "if bmi <= 18:\n",
        "    print('體重過輕囉')\n",
        "else:\n",
        "    print('體重正常')"
      ],
      "metadata": {
        "colab": {
          "base_uri": "https://localhost:8080/"
        },
        "id": "yB0DarYl-RpF",
        "outputId": "3ee1cc93-2b1c-4a16-e95f-1090c0a42a53"
      },
      "execution_count": null,
      "outputs": [
        {
          "output_type": "stream",
          "name": "stdout",
          "text": [
            "輸入身高182\n",
            "輸入體重90\n",
            "你的BMI值為27.17063156623596\n",
            "體重正常\n"
          ]
        }
      ]
    },
    {
      "cell_type": "markdown",
      "source": [
        "分段執行"
      ],
      "metadata": {
        "id": "SDyMDTzBAAaC"
      }
    },
    {
      "cell_type": "code",
      "source": [
        "h = float(input('輸入身高'))\n",
        "w = input('輸入體重')"
      ],
      "metadata": {
        "colab": {
          "base_uri": "https://localhost:8080/"
        },
        "id": "pt2BQeDs_m6D",
        "outputId": "c57be2ca-6792-4d11-fe91-0ed34a3e3bad"
      },
      "execution_count": null,
      "outputs": [
        {
          "name": "stdout",
          "output_type": "stream",
          "text": [
            "輸入身高182\n",
            "輸入體重90\n"
          ]
        }
      ]
    },
    {
      "cell_type": "code",
      "source": [
        "h"
      ],
      "metadata": {
        "colab": {
          "base_uri": "https://localhost:8080/"
        },
        "id": "dHFKQpjFAFGc",
        "outputId": "9e8c361e-a2b6-4836-d5a4-d6c46f81c64f"
      },
      "execution_count": null,
      "outputs": [
        {
          "output_type": "execute_result",
          "data": {
            "text/plain": [
              "185.0"
            ]
          },
          "metadata": {},
          "execution_count": 5
        }
      ]
    },
    {
      "cell_type": "code",
      "source": [
        "w"
      ],
      "metadata": {
        "colab": {
          "base_uri": "https://localhost:8080/",
          "height": 58
        },
        "id": "56g6L6rdAJrG",
        "outputId": "cff31cc2-f644-4f43-c19c-030d4c390b47"
      },
      "execution_count": null,
      "outputs": [
        {
          "output_type": "execute_result",
          "data": {
            "text/plain": [
              "'90'"
            ],
            "application/vnd.google.colaboratory.intrinsic+json": {
              "type": "string"
            }
          },
          "metadata": {},
          "execution_count": 10
        }
      ]
    },
    {
      "cell_type": "code",
      "source": [
        "bmi = float(w)/(float(h)/100)**2\n",
        "bmi"
      ],
      "metadata": {
        "colab": {
          "base_uri": "https://localhost:8080/"
        },
        "id": "YgIt7ZfCAYf_",
        "outputId": "2312cf61-5270-43bc-c5a5-986baa81f749"
      },
      "execution_count": null,
      "outputs": [
        {
          "output_type": "execute_result",
          "data": {
            "text/plain": [
              "27.17063156623596"
            ]
          },
          "metadata": {},
          "execution_count": 12
        }
      ]
    },
    {
      "cell_type": "code",
      "source": [
        "print(bmi)"
      ],
      "metadata": {
        "colab": {
          "base_uri": "https://localhost:8080/"
        },
        "id": "BfUztbzkAtzE",
        "outputId": "2a26be0f-0175-4422-dd2b-5f245ab5da83"
      },
      "execution_count": null,
      "outputs": [
        {
          "output_type": "stream",
          "name": "stdout",
          "text": [
            "27.17063156623596\n"
          ]
        }
      ]
    },
    {
      "cell_type": "code",
      "source": [
        "w"
      ],
      "metadata": {
        "colab": {
          "base_uri": "https://localhost:8080/",
          "height": 58
        },
        "id": "b9kpwNdRBNQ5",
        "outputId": "1a2804f8-b95d-4ab8-ee18-b2c4b4bc0d45"
      },
      "execution_count": null,
      "outputs": [
        {
          "output_type": "execute_result",
          "data": {
            "text/plain": [
              "'90'"
            ],
            "application/vnd.google.colaboratory.intrinsic+json": {
              "type": "string"
            }
          },
          "metadata": {},
          "execution_count": 14
        }
      ]
    },
    {
      "cell_type": "code",
      "source": [
        "print(w)"
      ],
      "metadata": {
        "colab": {
          "base_uri": "https://localhost:8080/"
        },
        "id": "WBhpXVEEBPph",
        "outputId": "99af96ce-4318-4e6c-b094-def8a00b5523"
      },
      "execution_count": null,
      "outputs": [
        {
          "output_type": "stream",
          "name": "stdout",
          "text": [
            "90\n"
          ]
        }
      ]
    },
    {
      "cell_type": "markdown",
      "source": [
        "# f-String"
      ],
      "metadata": {
        "id": "6QUfu2naCr-B"
      }
    },
    {
      "cell_type": "code",
      "source": [
        "name = '彥文'\n",
        "age = '28'\n",
        "dept = '應用數學系'"
      ],
      "metadata": {
        "id": "gLyOLegfBRhb"
      },
      "execution_count": null,
      "outputs": []
    },
    {
      "cell_type": "code",
      "source": [
        "print('大家好，我是' + name + '我今年' + age \n",
        "      + \"歲, \" + '我就讀政大' + dept)"
      ],
      "metadata": {
        "colab": {
          "base_uri": "https://localhost:8080/"
        },
        "id": "RaCxPHNqC1vd",
        "outputId": "952ddfa4-9831-47fc-f1ed-f7ea2c8aac01"
      },
      "execution_count": null,
      "outputs": [
        {
          "output_type": "stream",
          "name": "stdout",
          "text": [
            "大家好，我是彥文我今年28歲, 我就讀政大應用數學系\n"
          ]
        }
      ]
    },
    {
      "cell_type": "code",
      "source": [
        "print('大家好，我是{}, 我今年{},我現在就讀政大 {}'.format(name, age, dept))"
      ],
      "metadata": {
        "colab": {
          "base_uri": "https://localhost:8080/"
        },
        "id": "ImE47T3qDNd3",
        "outputId": "a541faf6-51b4-4589-b0bd-4f79c78bd5ae"
      },
      "execution_count": null,
      "outputs": [
        {
          "output_type": "stream",
          "name": "stdout",
          "text": [
            "大家好，我是彥文, 我今年28,我現在就讀政大 應用數學系\n"
          ]
        }
      ]
    },
    {
      "cell_type": "markdown",
      "source": [
        "遇上要修改內容的時候，會很麻煩"
      ],
      "metadata": {
        "id": "r0Hy1viWD-ft"
      }
    },
    {
      "cell_type": "code",
      "source": [
        "print('大家好，我是{},我現在就讀政大 {}'.format(name, dept))"
      ],
      "metadata": {
        "colab": {
          "base_uri": "https://localhost:8080/"
        },
        "id": "DfUSHKBwDz4D",
        "outputId": "1195be1e-9572-4148-d7b6-250d2ada253c"
      },
      "execution_count": null,
      "outputs": [
        {
          "output_type": "stream",
          "name": "stdout",
          "text": [
            "大家好，我是彥文,我現在就讀政大 應用數學系\n"
          ]
        }
      ]
    },
    {
      "cell_type": "markdown",
      "source": [
        "f-string 上場"
      ],
      "metadata": {
        "id": "QST2VFg_EZrW"
      }
    },
    {
      "cell_type": "code",
      "source": [
        "fstring = f\"大家好，我是{name}, 我今年{age}歲，就讀政大{dept}\"\n",
        "fstring"
      ],
      "metadata": {
        "colab": {
          "base_uri": "https://localhost:8080/",
          "height": 58
        },
        "id": "yJJpJl9fEMAm",
        "outputId": "6b31550f-83ee-4a90-9e76-64fc53d53e9c"
      },
      "execution_count": null,
      "outputs": [
        {
          "output_type": "execute_result",
          "data": {
            "text/plain": [
              "'大家好，我是彥文, 我今年28歲，就讀政大應用數學系'"
            ],
            "application/vnd.google.colaboratory.intrinsic+json": {
              "type": "string"
            }
          },
          "metadata": {},
          "execution_count": 23
        }
      ]
    },
    {
      "cell_type": "code",
      "source": [
        "fstring = f\"大家好，我是{name}, 就讀政大{dept}\"\n",
        "fstring"
      ],
      "metadata": {
        "colab": {
          "base_uri": "https://localhost:8080/",
          "height": 58
        },
        "id": "bEx0XWxyElSK",
        "outputId": "d9fe6d9b-f764-465f-c38f-ed63faea3e93"
      },
      "execution_count": null,
      "outputs": [
        {
          "output_type": "execute_result",
          "data": {
            "text/plain": [
              "'大家好，我是彥文, 就讀政大應用數學系'"
            ],
            "application/vnd.google.colaboratory.intrinsic+json": {
              "type": "string"
            }
          },
          "metadata": {},
          "execution_count": 24
        }
      ]
    },
    {
      "cell_type": "markdown",
      "source": [
        "# 意氣之爭的小瑪莉\n",
        "\n",
        "[]()\n",
        "[]()"
      ],
      "metadata": {
        "id": "Wgs3zXNEGov8"
      }
    },
    {
      "cell_type": "code",
      "source": [
        "[MarkDown](https://markdown.tw)"
      ],
      "metadata": {
        "id": "lzuAQVl9E8vF"
      },
      "execution_count": null,
      "outputs": []
    }
  ]
}